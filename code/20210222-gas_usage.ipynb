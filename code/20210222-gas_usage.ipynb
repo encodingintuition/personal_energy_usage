{
 "cells": [
  {
   "cell_type": "markdown",
   "metadata": {},
   "source": [
    "# Gas Usage vs Temperature"
   ]
  },
  {
   "cell_type": "code",
   "execution_count": 98,
   "metadata": {},
   "outputs": [],
   "source": [
    "# vis \n",
    "import matplotlib.pyplot as plt\n",
    "import seaborn as sns\n",
    "# pliers\n",
    "import pandas as pd\n",
    "import numpy as np\n"
   ]
  },
  {
   "cell_type": "markdown",
   "metadata": {},
   "source": [
    "# Contents\n",
    "- [Data Ingestion](#Data-Ingenstion)"
   ]
  },
  {
   "cell_type": "markdown",
   "metadata": {},
   "source": [
    "# Data Ingestion"
   ]
  },
  {
   "cell_type": "code",
   "execution_count": 99,
   "metadata": {},
   "outputs": [
    {
     "name": "stdout",
     "output_type": "stream",
     "text": [
      "(7, 6)\n"
     ]
    },
    {
     "data": {
      "text/html": [
       "<div>\n",
       "<style scoped>\n",
       "    .dataframe tbody tr th:only-of-type {\n",
       "        vertical-align: middle;\n",
       "    }\n",
       "\n",
       "    .dataframe tbody tr th {\n",
       "        vertical-align: top;\n",
       "    }\n",
       "\n",
       "    .dataframe thead th {\n",
       "        text-align: right;\n",
       "    }\n",
       "</style>\n",
       "<table border=\"1\" class=\"dataframe\">\n",
       "  <thead>\n",
       "    <tr style=\"text-align: right;\">\n",
       "      <th></th>\n",
       "      <th>invoice number</th>\n",
       "      <th>transaction date</th>\n",
       "      <th>cost</th>\n",
       "      <th>gal</th>\n",
       "      <th>Environmental Compliance Fee</th>\n",
       "      <th>cost per gal</th>\n",
       "    </tr>\n",
       "  </thead>\n",
       "  <tbody>\n",
       "    <tr>\n",
       "      <th>0</th>\n",
       "      <td>NaN</td>\n",
       "      <td>NaT</td>\n",
       "      <td>NaN</td>\n",
       "      <td>NaN</td>\n",
       "      <td>NaN</td>\n",
       "      <td>NaN</td>\n",
       "    </tr>\n",
       "    <tr>\n",
       "      <th>1</th>\n",
       "      <td>NaN</td>\n",
       "      <td>NaT</td>\n",
       "      <td>NaN</td>\n",
       "      <td>NaN</td>\n",
       "      <td>NaN</td>\n",
       "      <td>NaN</td>\n",
       "    </tr>\n",
       "    <tr>\n",
       "      <th>2</th>\n",
       "      <td>676952.0</td>\n",
       "      <td>2020-10-02</td>\n",
       "      <td>117.04</td>\n",
       "      <td>55.3</td>\n",
       "      <td>6.99</td>\n",
       "      <td>1.99</td>\n",
       "    </tr>\n",
       "    <tr>\n",
       "      <th>3</th>\n",
       "      <td>681181.0</td>\n",
       "      <td>2020-11-25</td>\n",
       "      <td>320.20</td>\n",
       "      <td>103.5</td>\n",
       "      <td>6.99</td>\n",
       "      <td>NaN</td>\n",
       "    </tr>\n",
       "    <tr>\n",
       "      <th>4</th>\n",
       "      <td>685620.0</td>\n",
       "      <td>2020-12-26</td>\n",
       "      <td>205.99</td>\n",
       "      <td>100.0</td>\n",
       "      <td>6.99</td>\n",
       "      <td>1.99</td>\n",
       "    </tr>\n",
       "  </tbody>\n",
       "</table>\n",
       "</div>"
      ],
      "text/plain": [
       "   invoice number transaction date    cost    gal  \\\n",
       "0             NaN              NaT     NaN    NaN   \n",
       "1             NaN              NaT     NaN    NaN   \n",
       "2        676952.0       2020-10-02  117.04   55.3   \n",
       "3        681181.0       2020-11-25  320.20  103.5   \n",
       "4        685620.0       2020-12-26  205.99  100.0   \n",
       "\n",
       "   Environmental Compliance Fee  cost per gal  \n",
       "0                           NaN           NaN  \n",
       "1                           NaN           NaN  \n",
       "2                          6.99          1.99  \n",
       "3                          6.99           NaN  \n",
       "4                          6.99          1.99  "
      ]
     },
     "execution_count": 99,
     "metadata": {},
     "output_type": "execute_result"
    }
   ],
   "source": [
    "gas_df = pd.read_excel('../data/gas_used.xlsx')\n",
    "print(gas_df.shape)\n",
    "gas_df.head()"
   ]
  },
  {
   "cell_type": "markdown",
   "metadata": {},
   "source": [
    "### Data Dictonary for Temp data\n",
    "\n",
    "T2M_RANGE MERRA2 1/2x1/2 Temperature Range at 2 Meters (C) \t\t\t\t\t\t\t\n",
    "T2M_MAX MERRA2 1/2x1/2 Maximum Temperature at 2 Meters (C) \t\t\t\t\t\t\t\n",
    "T2M_MIN MERRA2 1/2x1/2 Minimum Temperature at 2 Meters (C) \t\t\t\t\t\t\t\n",
    "T2M MERRA2 1/2x1/2 Temperature at 2 Meters (C) \t\t\t\t\t\t\t\n",
    "TS MERRA2 1/2x1/2 Earth Skin Temperature (C) \t\t\t\t\t\t\t\n",
    "T2MDEW MERRA2 1/2x1/2 Dew/Frost Point at 2 Meters (C) \t\t\t\t\t\t\t\n",
    "T2MWET MERRA2 1/2x1/2 Wet Bulb Temperature at 2 Meters (C) \t\t\t\t\t\t\t\n"
   ]
  },
  {
   "cell_type": "code",
   "execution_count": 100,
   "metadata": {},
   "outputs": [
    {
     "name": "stdout",
     "output_type": "stream",
     "text": [
      "(209, 12)\n"
     ]
    },
    {
     "data": {
      "text/html": [
       "<div>\n",
       "<style scoped>\n",
       "    .dataframe tbody tr th:only-of-type {\n",
       "        vertical-align: middle;\n",
       "    }\n",
       "\n",
       "    .dataframe tbody tr th {\n",
       "        vertical-align: top;\n",
       "    }\n",
       "\n",
       "    .dataframe thead th {\n",
       "        text-align: right;\n",
       "    }\n",
       "</style>\n",
       "<table border=\"1\" class=\"dataframe\">\n",
       "  <thead>\n",
       "    <tr style=\"text-align: right;\">\n",
       "      <th></th>\n",
       "      <th>LAT</th>\n",
       "      <th>LON</th>\n",
       "      <th>YEAR</th>\n",
       "      <th>MO</th>\n",
       "      <th>DY</th>\n",
       "      <th>T2M_RANGE</th>\n",
       "      <th>TS</th>\n",
       "      <th>T2MDEW</th>\n",
       "      <th>T2MWET</th>\n",
       "      <th>T2M_MAX</th>\n",
       "      <th>T2M_MIN</th>\n",
       "      <th>T2M</th>\n",
       "    </tr>\n",
       "  </thead>\n",
       "  <tbody>\n",
       "    <tr>\n",
       "      <th>0</th>\n",
       "      <td>41.77451</td>\n",
       "      <td>-74.27729</td>\n",
       "      <td>2020</td>\n",
       "      <td>8</td>\n",
       "      <td>1</td>\n",
       "      <td>14.37</td>\n",
       "      <td>24.58</td>\n",
       "      <td>15.59</td>\n",
       "      <td>15.42</td>\n",
       "      <td>31.20</td>\n",
       "      <td>16.83</td>\n",
       "      <td>24.66</td>\n",
       "    </tr>\n",
       "    <tr>\n",
       "      <th>1</th>\n",
       "      <td>41.77451</td>\n",
       "      <td>-74.27729</td>\n",
       "      <td>2020</td>\n",
       "      <td>8</td>\n",
       "      <td>2</td>\n",
       "      <td>8.73</td>\n",
       "      <td>24.33</td>\n",
       "      <td>20.65</td>\n",
       "      <td>20.57</td>\n",
       "      <td>28.83</td>\n",
       "      <td>20.11</td>\n",
       "      <td>24.30</td>\n",
       "    </tr>\n",
       "  </tbody>\n",
       "</table>\n",
       "</div>"
      ],
      "text/plain": [
       "        LAT       LON  YEAR  MO  DY  T2M_RANGE     TS  T2MDEW  T2MWET  \\\n",
       "0  41.77451 -74.27729  2020   8   1      14.37  24.58   15.59   15.42   \n",
       "1  41.77451 -74.27729  2020   8   2       8.73  24.33   20.65   20.57   \n",
       "\n",
       "   T2M_MAX  T2M_MIN    T2M  \n",
       "0    31.20    16.83  24.66  \n",
       "1    28.83    20.11  24.30  "
      ]
     },
     "execution_count": 100,
     "metadata": {},
     "output_type": "execute_result"
    }
   ],
   "source": [
    "# temp data from \n",
    "\n",
    "temp_df = pd.read_csv('../data/Daily_20200801_20210225_041d77N_74d28W_89a594ff - POWER_SinglePoint_Daily_20200801_20210225_041d77N_74d28W_89a594ff.csv',\n",
    "                      skiprows=16) #nrows=10\n",
    "print(temp_df.shape)\n",
    "temp_df.head(2)"
   ]
  },
  {
   "cell_type": "code",
   "execution_count": null,
   "metadata": {},
   "outputs": [],
   "source": []
  },
  {
   "cell_type": "code",
   "execution_count": null,
   "metadata": {},
   "outputs": [],
   "source": []
  },
  {
   "cell_type": "code",
   "execution_count": null,
   "metadata": {},
   "outputs": [],
   "source": []
  },
  {
   "cell_type": "code",
   "execution_count": null,
   "metadata": {},
   "outputs": [],
   "source": []
  },
  {
   "cell_type": "code",
   "execution_count": null,
   "metadata": {},
   "outputs": [],
   "source": []
  },
  {
   "cell_type": "code",
   "execution_count": 101,
   "metadata": {},
   "outputs": [
    {
     "name": "stdout",
     "output_type": "stream",
     "text": [
      "(2604, 13)\n"
     ]
    },
    {
     "data": {
      "text/html": [
       "<div>\n",
       "<style scoped>\n",
       "    .dataframe tbody tr th:only-of-type {\n",
       "        vertical-align: middle;\n",
       "    }\n",
       "\n",
       "    .dataframe tbody tr th {\n",
       "        vertical-align: top;\n",
       "    }\n",
       "\n",
       "    .dataframe thead th {\n",
       "        text-align: right;\n",
       "    }\n",
       "</style>\n",
       "<table border=\"1\" class=\"dataframe\">\n",
       "  <thead>\n",
       "    <tr style=\"text-align: right;\">\n",
       "      <th></th>\n",
       "      <th>STATION</th>\n",
       "      <th>NAME</th>\n",
       "      <th>DATE</th>\n",
       "      <th>DAPR</th>\n",
       "      <th>MDPR</th>\n",
       "      <th>PRCP</th>\n",
       "      <th>SNOW</th>\n",
       "      <th>SNWD</th>\n",
       "      <th>TMAX</th>\n",
       "      <th>TMIN</th>\n",
       "      <th>TOBS</th>\n",
       "      <th>WESD</th>\n",
       "      <th>WESF</th>\n",
       "    </tr>\n",
       "  </thead>\n",
       "  <tbody>\n",
       "    <tr>\n",
       "      <th>421</th>\n",
       "      <td>US1NYUL0021</td>\n",
       "      <td>STONE RIDGE 0.5 WNW, NY US</td>\n",
       "      <td>2020-08-02</td>\n",
       "      <td>NaN</td>\n",
       "      <td>NaN</td>\n",
       "      <td>0.01</td>\n",
       "      <td>NaN</td>\n",
       "      <td>NaN</td>\n",
       "      <td>NaN</td>\n",
       "      <td>NaN</td>\n",
       "      <td>NaN</td>\n",
       "      <td>NaN</td>\n",
       "      <td>NaN</td>\n",
       "    </tr>\n",
       "    <tr>\n",
       "      <th>2510</th>\n",
       "      <td>US1NYUL0019</td>\n",
       "      <td>WOODSTOCK 0.8 ENE, NY US</td>\n",
       "      <td>2020-11-03</td>\n",
       "      <td>NaN</td>\n",
       "      <td>NaN</td>\n",
       "      <td>0.02</td>\n",
       "      <td>0.0</td>\n",
       "      <td>NaN</td>\n",
       "      <td>NaN</td>\n",
       "      <td>NaN</td>\n",
       "      <td>NaN</td>\n",
       "      <td>NaN</td>\n",
       "      <td>NaN</td>\n",
       "    </tr>\n",
       "    <tr>\n",
       "      <th>1372</th>\n",
       "      <td>US1NYUL0015</td>\n",
       "      <td>STONE RIDGE 0.7 N, NY US</td>\n",
       "      <td>2020-12-23</td>\n",
       "      <td>NaN</td>\n",
       "      <td>NaN</td>\n",
       "      <td>0.00</td>\n",
       "      <td>NaN</td>\n",
       "      <td>NaN</td>\n",
       "      <td>NaN</td>\n",
       "      <td>NaN</td>\n",
       "      <td>NaN</td>\n",
       "      <td>NaN</td>\n",
       "      <td>NaN</td>\n",
       "    </tr>\n",
       "  </tbody>\n",
       "</table>\n",
       "</div>"
      ],
      "text/plain": [
       "          STATION                        NAME        DATE  DAPR  MDPR  PRCP  \\\n",
       "421   US1NYUL0021  STONE RIDGE 0.5 WNW, NY US  2020-08-02   NaN   NaN  0.01   \n",
       "2510  US1NYUL0019    WOODSTOCK 0.8 ENE, NY US  2020-11-03   NaN   NaN  0.02   \n",
       "1372  US1NYUL0015    STONE RIDGE 0.7 N, NY US  2020-12-23   NaN   NaN  0.00   \n",
       "\n",
       "      SNOW  SNWD  TMAX  TMIN  TOBS  WESD  WESF  \n",
       "421    NaN   NaN   NaN   NaN   NaN   NaN   NaN  \n",
       "2510   0.0   NaN   NaN   NaN   NaN   NaN   NaN  \n",
       "1372   NaN   NaN   NaN   NaN   NaN   NaN   NaN  "
      ]
     },
     "execution_count": 101,
     "metadata": {},
     "output_type": "execute_result"
    }
   ],
   "source": [
    "df_ = pd.read_csv('../data/2469458.csv')\n",
    "print(df_.shape)\n",
    "df_.sample(3)"
   ]
  },
  {
   "cell_type": "code",
   "execution_count": 102,
   "metadata": {},
   "outputs": [
    {
     "name": "stdout",
     "output_type": "stream",
     "text": [
      "(2604, 26)\n"
     ]
    },
    {
     "data": {
      "text/html": [
       "<div>\n",
       "<style scoped>\n",
       "    .dataframe tbody tr th:only-of-type {\n",
       "        vertical-align: middle;\n",
       "    }\n",
       "\n",
       "    .dataframe tbody tr th {\n",
       "        vertical-align: top;\n",
       "    }\n",
       "\n",
       "    .dataframe thead th {\n",
       "        text-align: right;\n",
       "    }\n",
       "</style>\n",
       "<table border=\"1\" class=\"dataframe\">\n",
       "  <thead>\n",
       "    <tr style=\"text-align: right;\">\n",
       "      <th></th>\n",
       "      <th>STATION</th>\n",
       "      <th>NAME</th>\n",
       "      <th>LATITUDE</th>\n",
       "      <th>LONGITUDE</th>\n",
       "      <th>ELEVATION</th>\n",
       "      <th>DATE</th>\n",
       "      <th>DAPR</th>\n",
       "      <th>DAPR_ATTRIBUTES</th>\n",
       "      <th>MDPR</th>\n",
       "      <th>MDPR_ATTRIBUTES</th>\n",
       "      <th>...</th>\n",
       "      <th>TMAX</th>\n",
       "      <th>TMAX_ATTRIBUTES</th>\n",
       "      <th>TMIN</th>\n",
       "      <th>TMIN_ATTRIBUTES</th>\n",
       "      <th>TOBS</th>\n",
       "      <th>TOBS_ATTRIBUTES</th>\n",
       "      <th>WESD</th>\n",
       "      <th>WESD_ATTRIBUTES</th>\n",
       "      <th>WESF</th>\n",
       "      <th>WESF_ATTRIBUTES</th>\n",
       "    </tr>\n",
       "  </thead>\n",
       "  <tbody>\n",
       "    <tr>\n",
       "      <th>1450</th>\n",
       "      <td>US1NYUL0026</td>\n",
       "      <td>GARDINER 1.3 WNW, NY US</td>\n",
       "      <td>41.685850</td>\n",
       "      <td>-74.173692</td>\n",
       "      <td>68.6</td>\n",
       "      <td>2020-09-09</td>\n",
       "      <td>NaN</td>\n",
       "      <td>NaN</td>\n",
       "      <td>NaN</td>\n",
       "      <td>NaN</td>\n",
       "      <td>...</td>\n",
       "      <td>NaN</td>\n",
       "      <td>NaN</td>\n",
       "      <td>NaN</td>\n",
       "      <td>NaN</td>\n",
       "      <td>NaN</td>\n",
       "      <td>NaN</td>\n",
       "      <td>NaN</td>\n",
       "      <td>NaN</td>\n",
       "      <td>NaN</td>\n",
       "      <td>NaN</td>\n",
       "    </tr>\n",
       "    <tr>\n",
       "      <th>1571</th>\n",
       "      <td>US1NYUL0026</td>\n",
       "      <td>GARDINER 1.3 WNW, NY US</td>\n",
       "      <td>41.685850</td>\n",
       "      <td>-74.173692</td>\n",
       "      <td>68.6</td>\n",
       "      <td>2021-01-14</td>\n",
       "      <td>NaN</td>\n",
       "      <td>NaN</td>\n",
       "      <td>NaN</td>\n",
       "      <td>NaN</td>\n",
       "      <td>...</td>\n",
       "      <td>NaN</td>\n",
       "      <td>NaN</td>\n",
       "      <td>NaN</td>\n",
       "      <td>NaN</td>\n",
       "      <td>NaN</td>\n",
       "      <td>NaN</td>\n",
       "      <td>NaN</td>\n",
       "      <td>NaN</td>\n",
       "      <td>NaN</td>\n",
       "      <td>NaN</td>\n",
       "    </tr>\n",
       "    <tr>\n",
       "      <th>196</th>\n",
       "      <td>US1NYUL0020</td>\n",
       "      <td>ULSTER PARK 0.9 NNW, NY US</td>\n",
       "      <td>41.867677</td>\n",
       "      <td>-73.987955</td>\n",
       "      <td>53.6</td>\n",
       "      <td>2021-01-26</td>\n",
       "      <td>NaN</td>\n",
       "      <td>NaN</td>\n",
       "      <td>NaN</td>\n",
       "      <td>NaN</td>\n",
       "      <td>...</td>\n",
       "      <td>NaN</td>\n",
       "      <td>NaN</td>\n",
       "      <td>NaN</td>\n",
       "      <td>NaN</td>\n",
       "      <td>NaN</td>\n",
       "      <td>NaN</td>\n",
       "      <td>NaN</td>\n",
       "      <td>NaN</td>\n",
       "      <td>NaN</td>\n",
       "      <td>NaN</td>\n",
       "    </tr>\n",
       "  </tbody>\n",
       "</table>\n",
       "<p>3 rows × 26 columns</p>\n",
       "</div>"
      ],
      "text/plain": [
       "          STATION                        NAME   LATITUDE  LONGITUDE  \\\n",
       "1450  US1NYUL0026     GARDINER 1.3 WNW, NY US  41.685850 -74.173692   \n",
       "1571  US1NYUL0026     GARDINER 1.3 WNW, NY US  41.685850 -74.173692   \n",
       "196   US1NYUL0020  ULSTER PARK 0.9 NNW, NY US  41.867677 -73.987955   \n",
       "\n",
       "      ELEVATION        DATE  DAPR DAPR_ATTRIBUTES  MDPR MDPR_ATTRIBUTES  ...  \\\n",
       "1450       68.6  2020-09-09   NaN             NaN   NaN             NaN  ...   \n",
       "1571       68.6  2021-01-14   NaN             NaN   NaN             NaN  ...   \n",
       "196        53.6  2021-01-26   NaN             NaN   NaN             NaN  ...   \n",
       "\n",
       "      TMAX TMAX_ATTRIBUTES  TMIN TMIN_ATTRIBUTES  TOBS TOBS_ATTRIBUTES  WESD  \\\n",
       "1450   NaN             NaN   NaN             NaN   NaN             NaN   NaN   \n",
       "1571   NaN             NaN   NaN             NaN   NaN             NaN   NaN   \n",
       "196    NaN             NaN   NaN             NaN   NaN             NaN   NaN   \n",
       "\n",
       "     WESD_ATTRIBUTES  WESF WESF_ATTRIBUTES  \n",
       "1450             NaN   NaN             NaN  \n",
       "1571             NaN   NaN             NaN  \n",
       "196              NaN   NaN             NaN  \n",
       "\n",
       "[3 rows x 26 columns]"
      ]
     },
     "execution_count": 102,
     "metadata": {},
     "output_type": "execute_result"
    }
   ],
   "source": [
    "_df = pd.read_csv('../data/2469673.csv')\n",
    "print(_df.shape)\n",
    "_df.sample(3)"
   ]
  },
  {
   "cell_type": "code",
   "execution_count": 103,
   "metadata": {},
   "outputs": [
    {
     "name": "stdout",
     "output_type": "stream",
     "text": [
      "(553, 20)\n"
     ]
    },
    {
     "data": {
      "text/html": [
       "<div>\n",
       "<style scoped>\n",
       "    .dataframe tbody tr th:only-of-type {\n",
       "        vertical-align: middle;\n",
       "    }\n",
       "\n",
       "    .dataframe tbody tr th {\n",
       "        vertical-align: top;\n",
       "    }\n",
       "\n",
       "    .dataframe thead th {\n",
       "        text-align: right;\n",
       "    }\n",
       "</style>\n",
       "<table border=\"1\" class=\"dataframe\">\n",
       "  <thead>\n",
       "    <tr style=\"text-align: right;\">\n",
       "      <th></th>\n",
       "      <th>STATION</th>\n",
       "      <th>NAME</th>\n",
       "      <th>LATITUDE</th>\n",
       "      <th>LONGITUDE</th>\n",
       "      <th>ELEVATION</th>\n",
       "      <th>DATE</th>\n",
       "      <th>DAPR</th>\n",
       "      <th>DAPR_ATTRIBUTES</th>\n",
       "      <th>MDPR</th>\n",
       "      <th>MDPR_ATTRIBUTES</th>\n",
       "      <th>PRCP</th>\n",
       "      <th>PRCP_ATTRIBUTES</th>\n",
       "      <th>SNOW</th>\n",
       "      <th>SNOW_ATTRIBUTES</th>\n",
       "      <th>SNWD</th>\n",
       "      <th>SNWD_ATTRIBUTES</th>\n",
       "      <th>WESD</th>\n",
       "      <th>WESD_ATTRIBUTES</th>\n",
       "      <th>WESF</th>\n",
       "      <th>WESF_ATTRIBUTES</th>\n",
       "    </tr>\n",
       "  </thead>\n",
       "  <tbody>\n",
       "    <tr>\n",
       "      <th>400</th>\n",
       "      <td>US1NYUL0026</td>\n",
       "      <td>GARDINER 1.3 WNW, NY US</td>\n",
       "      <td>41.685850</td>\n",
       "      <td>-74.173692</td>\n",
       "      <td>68.6</td>\n",
       "      <td>2021-01-09</td>\n",
       "      <td>NaN</td>\n",
       "      <td>NaN</td>\n",
       "      <td>NaN</td>\n",
       "      <td>NaN</td>\n",
       "      <td>0.0</td>\n",
       "      <td>,,N</td>\n",
       "      <td>NaN</td>\n",
       "      <td>NaN</td>\n",
       "      <td>NaN</td>\n",
       "      <td>NaN</td>\n",
       "      <td>NaN</td>\n",
       "      <td>NaN</td>\n",
       "      <td>NaN</td>\n",
       "      <td>NaN</td>\n",
       "    </tr>\n",
       "    <tr>\n",
       "      <th>336</th>\n",
       "      <td>US1NYUL0022</td>\n",
       "      <td>KINGSTON 2.1 N, NY US</td>\n",
       "      <td>41.961037</td>\n",
       "      <td>-73.995767</td>\n",
       "      <td>55.8</td>\n",
       "      <td>2021-01-22</td>\n",
       "      <td>NaN</td>\n",
       "      <td>NaN</td>\n",
       "      <td>NaN</td>\n",
       "      <td>NaN</td>\n",
       "      <td>0.0</td>\n",
       "      <td>T,,N</td>\n",
       "      <td>0.0</td>\n",
       "      <td>T,,N</td>\n",
       "      <td>NaN</td>\n",
       "      <td>NaN</td>\n",
       "      <td>NaN</td>\n",
       "      <td>NaN</td>\n",
       "      <td>NaN</td>\n",
       "      <td>NaN</td>\n",
       "    </tr>\n",
       "    <tr>\n",
       "      <th>77</th>\n",
       "      <td>US1NYUL0032</td>\n",
       "      <td>ESOPUS 0.8 NNE, NY US</td>\n",
       "      <td>41.838544</td>\n",
       "      <td>-73.958758</td>\n",
       "      <td>49.4</td>\n",
       "      <td>2021-01-28</td>\n",
       "      <td>NaN</td>\n",
       "      <td>NaN</td>\n",
       "      <td>NaN</td>\n",
       "      <td>NaN</td>\n",
       "      <td>0.0</td>\n",
       "      <td>,,N</td>\n",
       "      <td>0.0</td>\n",
       "      <td>,,N</td>\n",
       "      <td>NaN</td>\n",
       "      <td>NaN</td>\n",
       "      <td>NaN</td>\n",
       "      <td>NaN</td>\n",
       "      <td>NaN</td>\n",
       "      <td>NaN</td>\n",
       "    </tr>\n",
       "  </tbody>\n",
       "</table>\n",
       "</div>"
      ],
      "text/plain": [
       "         STATION                     NAME   LATITUDE  LONGITUDE  ELEVATION  \\\n",
       "400  US1NYUL0026  GARDINER 1.3 WNW, NY US  41.685850 -74.173692       68.6   \n",
       "336  US1NYUL0022    KINGSTON 2.1 N, NY US  41.961037 -73.995767       55.8   \n",
       "77   US1NYUL0032    ESOPUS 0.8 NNE, NY US  41.838544 -73.958758       49.4   \n",
       "\n",
       "           DATE  DAPR DAPR_ATTRIBUTES  MDPR MDPR_ATTRIBUTES  PRCP  \\\n",
       "400  2021-01-09   NaN             NaN   NaN             NaN   0.0   \n",
       "336  2021-01-22   NaN             NaN   NaN             NaN   0.0   \n",
       "77   2021-01-28   NaN             NaN   NaN             NaN   0.0   \n",
       "\n",
       "    PRCP_ATTRIBUTES  SNOW SNOW_ATTRIBUTES  SNWD SNWD_ATTRIBUTES  WESD  \\\n",
       "400             ,,N   NaN             NaN   NaN             NaN   NaN   \n",
       "336            T,,N   0.0            T,,N   NaN             NaN   NaN   \n",
       "77              ,,N   0.0             ,,N   NaN             NaN   NaN   \n",
       "\n",
       "    WESD_ATTRIBUTES  WESF WESF_ATTRIBUTES  \n",
       "400             NaN   NaN             NaN  \n",
       "336             NaN   NaN             NaN  \n",
       "77              NaN   NaN             NaN  "
      ]
     },
     "execution_count": 103,
     "metadata": {},
     "output_type": "execute_result"
    }
   ],
   "source": [
    "_df_ = pd.read_csv('../data/2469671.csv')\n",
    "print(_df_.shape)\n",
    "_df_.sample(3)"
   ]
  },
  {
   "cell_type": "code",
   "execution_count": null,
   "metadata": {},
   "outputs": [],
   "source": []
  },
  {
   "cell_type": "markdown",
   "metadata": {},
   "source": [
    "# EDA\n",
    "<hr />"
   ]
  },
  {
   "cell_type": "markdown",
   "metadata": {},
   "source": [
    "### Clean data - gas_used.xls"
   ]
  },
  {
   "cell_type": "markdown",
   "metadata": {},
   "source": [
    " "
   ]
  },
  {
   "cell_type": "markdown",
   "metadata": {},
   "source": [
    "Numpy - paying with pandas -> numpy "
   ]
  },
  {
   "cell_type": "code",
   "execution_count": 104,
   "metadata": {},
   "outputs": [
    {
     "name": "stdout",
     "output_type": "stream",
     "text": [
      "<class 'method'>\n",
      "\n"
     ]
    },
    {
     "data": {
      "text/plain": [
       "array([[nan, NaT, nan, nan, nan, nan],\n",
       "       [nan, NaT, nan, nan, nan, nan],\n",
       "       [676952.0, Timestamp('2020-10-02 00:00:00'), 117.04, 55.3, 6.99,\n",
       "        1.99],\n",
       "       [681181.0, Timestamp('2020-11-25 00:00:00'), 320.2, 103.5, 6.99,\n",
       "        nan],\n",
       "       [685620.0, Timestamp('2020-12-26 00:00:00'), 205.99, 100.0, 6.99,\n",
       "        1.99],\n",
       "       [688270.0, Timestamp('2021-01-20 00:00:00'), 224.7, 109.4, 6.99,\n",
       "        1.99],\n",
       "       [692265.0, Timestamp('2021-02-17 00:00:00'), 205.99, 100.0, 6.99,\n",
       "        1.99]], dtype=object)"
      ]
     },
     "execution_count": 104,
     "metadata": {},
     "output_type": "execute_result"
    }
   ],
   "source": [
    "# DataFrame.to_numpy(dtype=None, copy=False, na_value=<object object>)[source]\n",
    "# view pandas as numpy\n",
    "\n",
    "print(type(gas_df.to_numpy))\n",
    "print()\n",
    "gas_df.to_numpy()"
   ]
  },
  {
   "cell_type": "code",
   "execution_count": 105,
   "metadata": {},
   "outputs": [
    {
     "data": {
      "text/html": [
       "<div>\n",
       "<style scoped>\n",
       "    .dataframe tbody tr th:only-of-type {\n",
       "        vertical-align: middle;\n",
       "    }\n",
       "\n",
       "    .dataframe tbody tr th {\n",
       "        vertical-align: top;\n",
       "    }\n",
       "\n",
       "    .dataframe thead th {\n",
       "        text-align: right;\n",
       "    }\n",
       "</style>\n",
       "<table border=\"1\" class=\"dataframe\">\n",
       "  <thead>\n",
       "    <tr style=\"text-align: right;\">\n",
       "      <th></th>\n",
       "      <th>invoice number</th>\n",
       "      <th>transaction date</th>\n",
       "      <th>cost</th>\n",
       "      <th>gal</th>\n",
       "      <th>Environmental Compliance Fee</th>\n",
       "      <th>cost per gal</th>\n",
       "    </tr>\n",
       "  </thead>\n",
       "  <tbody>\n",
       "    <tr>\n",
       "      <th>2</th>\n",
       "      <td>676952.0</td>\n",
       "      <td>2020-10-02</td>\n",
       "      <td>117.04</td>\n",
       "      <td>55.3</td>\n",
       "      <td>6.99</td>\n",
       "      <td>1.99</td>\n",
       "    </tr>\n",
       "    <tr>\n",
       "      <th>3</th>\n",
       "      <td>681181.0</td>\n",
       "      <td>2020-11-25</td>\n",
       "      <td>320.20</td>\n",
       "      <td>103.5</td>\n",
       "      <td>6.99</td>\n",
       "      <td>NaN</td>\n",
       "    </tr>\n",
       "    <tr>\n",
       "      <th>4</th>\n",
       "      <td>685620.0</td>\n",
       "      <td>2020-12-26</td>\n",
       "      <td>205.99</td>\n",
       "      <td>100.0</td>\n",
       "      <td>6.99</td>\n",
       "      <td>1.99</td>\n",
       "    </tr>\n",
       "    <tr>\n",
       "      <th>5</th>\n",
       "      <td>688270.0</td>\n",
       "      <td>2021-01-20</td>\n",
       "      <td>224.70</td>\n",
       "      <td>109.4</td>\n",
       "      <td>6.99</td>\n",
       "      <td>1.99</td>\n",
       "    </tr>\n",
       "    <tr>\n",
       "      <th>6</th>\n",
       "      <td>692265.0</td>\n",
       "      <td>2021-02-17</td>\n",
       "      <td>205.99</td>\n",
       "      <td>100.0</td>\n",
       "      <td>6.99</td>\n",
       "      <td>1.99</td>\n",
       "    </tr>\n",
       "  </tbody>\n",
       "</table>\n",
       "</div>"
      ],
      "text/plain": [
       "   invoice number transaction date    cost    gal  \\\n",
       "2        676952.0       2020-10-02  117.04   55.3   \n",
       "3        681181.0       2020-11-25  320.20  103.5   \n",
       "4        685620.0       2020-12-26  205.99  100.0   \n",
       "5        688270.0       2021-01-20  224.70  109.4   \n",
       "6        692265.0       2021-02-17  205.99  100.0   \n",
       "\n",
       "   Environmental Compliance Fee  cost per gal  \n",
       "2                          6.99          1.99  \n",
       "3                          6.99           NaN  \n",
       "4                          6.99          1.99  \n",
       "5                          6.99          1.99  \n",
       "6                          6.99          1.99  "
      ]
     },
     "execution_count": 105,
     "metadata": {},
     "output_type": "execute_result"
    }
   ],
   "source": [
    "# drop rows with nans - look but not update\n",
    "\n",
    "gas_df.drop([0,1])"
   ]
  },
  {
   "cell_type": "code",
   "execution_count": 106,
   "metadata": {},
   "outputs": [
    {
     "name": "stdout",
     "output_type": "stream",
     "text": [
      "<class 'numpy.ndarray'>\n"
     ]
    },
    {
     "data": {
      "text/plain": [
       "array([[676952.0, Timestamp('2020-10-02 00:00:00'), 117.04, 55.3, 6.99,\n",
       "        1.99],\n",
       "       [681181.0, Timestamp('2020-11-25 00:00:00'), 320.2, 103.5, 6.99,\n",
       "        nan],\n",
       "       [685620.0, Timestamp('2020-12-26 00:00:00'), 205.99, 100.0, 6.99,\n",
       "        1.99],\n",
       "       [688270.0, Timestamp('2021-01-20 00:00:00'), 224.7, 109.4, 6.99,\n",
       "        1.99],\n",
       "       [692265.0, Timestamp('2021-02-17 00:00:00'), 205.99, 100.0, 6.99,\n",
       "        1.99]], dtype=object)"
      ]
     },
     "execution_count": 106,
     "metadata": {},
     "output_type": "execute_result"
    }
   ],
   "source": [
    "# delete rows with numpy \n",
    "\n",
    "\"\"\"\n",
    "??special handling of scalars??\n",
    "What is def of scalars and how can they be specially be handled. \n",
    "\"\"\"\n",
    "\n",
    "#created numpy array \n",
    "x = gas_df.to_numpy()\n",
    "\n",
    "print(type(x))\n",
    "\n",
    "## numpy.delete(arr, obj, axis=None)\n",
    "np.delete(x, [0,1],0)"
   ]
  },
  {
   "cell_type": "markdown",
   "metadata": {},
   "source": [
    "    practice numpy \n"
   ]
  },
  {
   "cell_type": "code",
   "execution_count": 107,
   "metadata": {},
   "outputs": [
    {
     "data": {
      "text/html": [
       "<div>\n",
       "<style scoped>\n",
       "    .dataframe tbody tr th:only-of-type {\n",
       "        vertical-align: middle;\n",
       "    }\n",
       "\n",
       "    .dataframe tbody tr th {\n",
       "        vertical-align: top;\n",
       "    }\n",
       "\n",
       "    .dataframe thead th {\n",
       "        text-align: right;\n",
       "    }\n",
       "</style>\n",
       "<table border=\"1\" class=\"dataframe\">\n",
       "  <thead>\n",
       "    <tr style=\"text-align: right;\">\n",
       "      <th></th>\n",
       "      <th>invoice number</th>\n",
       "      <th>transaction date</th>\n",
       "      <th>cost</th>\n",
       "      <th>gal</th>\n",
       "      <th>Environmental Compliance Fee</th>\n",
       "      <th>cost per gal</th>\n",
       "    </tr>\n",
       "  </thead>\n",
       "  <tbody>\n",
       "    <tr>\n",
       "      <th>2</th>\n",
       "      <td>676952.0</td>\n",
       "      <td>2020-10-02</td>\n",
       "      <td>117.04</td>\n",
       "      <td>55.3</td>\n",
       "      <td>6.99</td>\n",
       "      <td>1.99</td>\n",
       "    </tr>\n",
       "    <tr>\n",
       "      <th>3</th>\n",
       "      <td>681181.0</td>\n",
       "      <td>2020-11-25</td>\n",
       "      <td>320.20</td>\n",
       "      <td>103.5</td>\n",
       "      <td>6.99</td>\n",
       "      <td>NaN</td>\n",
       "    </tr>\n",
       "    <tr>\n",
       "      <th>4</th>\n",
       "      <td>685620.0</td>\n",
       "      <td>2020-12-26</td>\n",
       "      <td>205.99</td>\n",
       "      <td>100.0</td>\n",
       "      <td>6.99</td>\n",
       "      <td>1.99</td>\n",
       "    </tr>\n",
       "    <tr>\n",
       "      <th>5</th>\n",
       "      <td>688270.0</td>\n",
       "      <td>2021-01-20</td>\n",
       "      <td>224.70</td>\n",
       "      <td>109.4</td>\n",
       "      <td>6.99</td>\n",
       "      <td>1.99</td>\n",
       "    </tr>\n",
       "    <tr>\n",
       "      <th>6</th>\n",
       "      <td>692265.0</td>\n",
       "      <td>2021-02-17</td>\n",
       "      <td>205.99</td>\n",
       "      <td>100.0</td>\n",
       "      <td>6.99</td>\n",
       "      <td>1.99</td>\n",
       "    </tr>\n",
       "  </tbody>\n",
       "</table>\n",
       "</div>"
      ],
      "text/plain": [
       "   invoice number transaction date    cost    gal  \\\n",
       "2        676952.0       2020-10-02  117.04   55.3   \n",
       "3        681181.0       2020-11-25  320.20  103.5   \n",
       "4        685620.0       2020-12-26  205.99  100.0   \n",
       "5        688270.0       2021-01-20  224.70  109.4   \n",
       "6        692265.0       2021-02-17  205.99  100.0   \n",
       "\n",
       "   Environmental Compliance Fee  cost per gal  \n",
       "2                          6.99          1.99  \n",
       "3                          6.99           NaN  \n",
       "4                          6.99          1.99  \n",
       "5                          6.99          1.99  \n",
       "6                          6.99          1.99  "
      ]
     },
     "execution_count": 107,
     "metadata": {},
     "output_type": "execute_result"
    }
   ],
   "source": [
    "\"\"\"  actaully Drops rows \"\"\"\n",
    "# drop the nan rows and redefine the dataframe\n",
    "\n",
    "gas_df = gas_df.drop([0,1])\n",
    "gas_df.head()"
   ]
  },
  {
   "cell_type": "code",
   "execution_count": 108,
   "metadata": {},
   "outputs": [],
   "source": [
    "# rename columns\n",
    "\n",
    "gas_df.rename(columns = {'transaction date':'date','invoice number':'invoice'}, inplace = True)"
   ]
  },
  {
   "cell_type": "code",
   "execution_count": 109,
   "metadata": {},
   "outputs": [
    {
     "data": {
      "text/html": [
       "<div>\n",
       "<style scoped>\n",
       "    .dataframe tbody tr th:only-of-type {\n",
       "        vertical-align: middle;\n",
       "    }\n",
       "\n",
       "    .dataframe tbody tr th {\n",
       "        vertical-align: top;\n",
       "    }\n",
       "\n",
       "    .dataframe thead th {\n",
       "        text-align: right;\n",
       "    }\n",
       "</style>\n",
       "<table border=\"1\" class=\"dataframe\">\n",
       "  <thead>\n",
       "    <tr style=\"text-align: right;\">\n",
       "      <th></th>\n",
       "      <th>invoice</th>\n",
       "      <th>date</th>\n",
       "      <th>cost</th>\n",
       "      <th>gal</th>\n",
       "      <th>Environmental Compliance Fee</th>\n",
       "      <th>cost per gal</th>\n",
       "    </tr>\n",
       "  </thead>\n",
       "  <tbody>\n",
       "    <tr>\n",
       "      <th>2</th>\n",
       "      <td>676952.0</td>\n",
       "      <td>2020-10-02</td>\n",
       "      <td>117.04</td>\n",
       "      <td>55.3</td>\n",
       "      <td>6.99</td>\n",
       "      <td>1.99</td>\n",
       "    </tr>\n",
       "  </tbody>\n",
       "</table>\n",
       "</div>"
      ],
      "text/plain": [
       "    invoice       date    cost   gal  Environmental Compliance Fee  \\\n",
       "2  676952.0 2020-10-02  117.04  55.3                          6.99   \n",
       "\n",
       "   cost per gal  \n",
       "2          1.99  "
      ]
     },
     "execution_count": 109,
     "metadata": {},
     "output_type": "execute_result"
    }
   ],
   "source": [
    "gas_df.head(1)"
   ]
  },
  {
   "cell_type": "code",
   "execution_count": 110,
   "metadata": {},
   "outputs": [],
   "source": [
    "# convert transaction date to timestamp\n",
    "gas_df['date'] = pd.to_datetime(gas_df['date'])"
   ]
  },
  {
   "cell_type": "code",
   "execution_count": 111,
   "metadata": {},
   "outputs": [
    {
     "data": {
      "text/html": [
       "<div>\n",
       "<style scoped>\n",
       "    .dataframe tbody tr th:only-of-type {\n",
       "        vertical-align: middle;\n",
       "    }\n",
       "\n",
       "    .dataframe tbody tr th {\n",
       "        vertical-align: top;\n",
       "    }\n",
       "\n",
       "    .dataframe thead th {\n",
       "        text-align: right;\n",
       "    }\n",
       "</style>\n",
       "<table border=\"1\" class=\"dataframe\">\n",
       "  <thead>\n",
       "    <tr style=\"text-align: right;\">\n",
       "      <th></th>\n",
       "      <th>invoice</th>\n",
       "      <th>cost</th>\n",
       "      <th>gal</th>\n",
       "      <th>Environmental Compliance Fee</th>\n",
       "      <th>cost per gal</th>\n",
       "    </tr>\n",
       "    <tr>\n",
       "      <th>date</th>\n",
       "      <th></th>\n",
       "      <th></th>\n",
       "      <th></th>\n",
       "      <th></th>\n",
       "      <th></th>\n",
       "    </tr>\n",
       "  </thead>\n",
       "  <tbody>\n",
       "    <tr>\n",
       "      <th>2020-10-02</th>\n",
       "      <td>676952.0</td>\n",
       "      <td>117.04</td>\n",
       "      <td>55.3</td>\n",
       "      <td>6.99</td>\n",
       "      <td>1.99</td>\n",
       "    </tr>\n",
       "    <tr>\n",
       "      <th>2020-11-25</th>\n",
       "      <td>681181.0</td>\n",
       "      <td>320.20</td>\n",
       "      <td>103.5</td>\n",
       "      <td>6.99</td>\n",
       "      <td>NaN</td>\n",
       "    </tr>\n",
       "    <tr>\n",
       "      <th>2020-12-26</th>\n",
       "      <td>685620.0</td>\n",
       "      <td>205.99</td>\n",
       "      <td>100.0</td>\n",
       "      <td>6.99</td>\n",
       "      <td>1.99</td>\n",
       "    </tr>\n",
       "    <tr>\n",
       "      <th>2021-01-20</th>\n",
       "      <td>688270.0</td>\n",
       "      <td>224.70</td>\n",
       "      <td>109.4</td>\n",
       "      <td>6.99</td>\n",
       "      <td>1.99</td>\n",
       "    </tr>\n",
       "    <tr>\n",
       "      <th>2021-02-17</th>\n",
       "      <td>692265.0</td>\n",
       "      <td>205.99</td>\n",
       "      <td>100.0</td>\n",
       "      <td>6.99</td>\n",
       "      <td>1.99</td>\n",
       "    </tr>\n",
       "  </tbody>\n",
       "</table>\n",
       "</div>"
      ],
      "text/plain": [
       "             invoice    cost    gal  Environmental Compliance Fee  \\\n",
       "date                                                                \n",
       "2020-10-02  676952.0  117.04   55.3                          6.99   \n",
       "2020-11-25  681181.0  320.20  103.5                          6.99   \n",
       "2020-12-26  685620.0  205.99  100.0                          6.99   \n",
       "2021-01-20  688270.0  224.70  109.4                          6.99   \n",
       "2021-02-17  692265.0  205.99  100.0                          6.99   \n",
       "\n",
       "            cost per gal  \n",
       "date                      \n",
       "2020-10-02          1.99  \n",
       "2020-11-25           NaN  \n",
       "2020-12-26          1.99  \n",
       "2021-01-20          1.99  \n",
       "2021-02-17          1.99  "
      ]
     },
     "execution_count": 111,
     "metadata": {},
     "output_type": "execute_result"
    }
   ],
   "source": [
    "# reset index \n",
    "\n",
    "gas_df.set_index('date')"
   ]
  },
  {
   "cell_type": "code",
   "execution_count": null,
   "metadata": {
    "collapsed": true,
    "jupyter": {
     "outputs_hidden": true
    }
   },
   "outputs": [],
   "source": []
  },
  {
   "cell_type": "markdown",
   "metadata": {},
   "source": [
    "### Clean Data - temp_df\n",
    "<hr/>"
   ]
  },
  {
   "cell_type": "markdown",
   "metadata": {},
   "source": [
    " "
   ]
  },
  {
   "cell_type": "code",
   "execution_count": 112,
   "metadata": {},
   "outputs": [
    {
     "data": {
      "text/html": [
       "<div>\n",
       "<style scoped>\n",
       "    .dataframe tbody tr th:only-of-type {\n",
       "        vertical-align: middle;\n",
       "    }\n",
       "\n",
       "    .dataframe tbody tr th {\n",
       "        vertical-align: top;\n",
       "    }\n",
       "\n",
       "    .dataframe thead th {\n",
       "        text-align: right;\n",
       "    }\n",
       "</style>\n",
       "<table border=\"1\" class=\"dataframe\">\n",
       "  <thead>\n",
       "    <tr style=\"text-align: right;\">\n",
       "      <th></th>\n",
       "      <th>LAT</th>\n",
       "      <th>LON</th>\n",
       "      <th>YEAR</th>\n",
       "      <th>MO</th>\n",
       "      <th>DY</th>\n",
       "      <th>T2M_RANGE</th>\n",
       "      <th>TS</th>\n",
       "      <th>T2MDEW</th>\n",
       "      <th>T2MWET</th>\n",
       "      <th>T2M_MAX</th>\n",
       "      <th>T2M_MIN</th>\n",
       "      <th>T2M</th>\n",
       "    </tr>\n",
       "  </thead>\n",
       "  <tbody>\n",
       "    <tr>\n",
       "      <th>0</th>\n",
       "      <td>41.77451</td>\n",
       "      <td>-74.27729</td>\n",
       "      <td>2020</td>\n",
       "      <td>8</td>\n",
       "      <td>1</td>\n",
       "      <td>14.37</td>\n",
       "      <td>24.58</td>\n",
       "      <td>15.59</td>\n",
       "      <td>15.42</td>\n",
       "      <td>31.20</td>\n",
       "      <td>16.83</td>\n",
       "      <td>24.66</td>\n",
       "    </tr>\n",
       "    <tr>\n",
       "      <th>1</th>\n",
       "      <td>41.77451</td>\n",
       "      <td>-74.27729</td>\n",
       "      <td>2020</td>\n",
       "      <td>8</td>\n",
       "      <td>2</td>\n",
       "      <td>8.73</td>\n",
       "      <td>24.33</td>\n",
       "      <td>20.65</td>\n",
       "      <td>20.57</td>\n",
       "      <td>28.83</td>\n",
       "      <td>20.11</td>\n",
       "      <td>24.30</td>\n",
       "    </tr>\n",
       "    <tr>\n",
       "      <th>2</th>\n",
       "      <td>41.77451</td>\n",
       "      <td>-74.27729</td>\n",
       "      <td>2020</td>\n",
       "      <td>8</td>\n",
       "      <td>3</td>\n",
       "      <td>10.66</td>\n",
       "      <td>24.39</td>\n",
       "      <td>16.23</td>\n",
       "      <td>16.03</td>\n",
       "      <td>30.16</td>\n",
       "      <td>19.50</td>\n",
       "      <td>24.56</td>\n",
       "    </tr>\n",
       "    <tr>\n",
       "      <th>3</th>\n",
       "      <td>41.77451</td>\n",
       "      <td>-74.27729</td>\n",
       "      <td>2020</td>\n",
       "      <td>8</td>\n",
       "      <td>4</td>\n",
       "      <td>5.20</td>\n",
       "      <td>21.13</td>\n",
       "      <td>20.19</td>\n",
       "      <td>20.17</td>\n",
       "      <td>23.65</td>\n",
       "      <td>18.45</td>\n",
       "      <td>21.14</td>\n",
       "    </tr>\n",
       "    <tr>\n",
       "      <th>4</th>\n",
       "      <td>41.77451</td>\n",
       "      <td>-74.27729</td>\n",
       "      <td>2020</td>\n",
       "      <td>8</td>\n",
       "      <td>5</td>\n",
       "      <td>10.10</td>\n",
       "      <td>20.91</td>\n",
       "      <td>16.51</td>\n",
       "      <td>16.40</td>\n",
       "      <td>26.28</td>\n",
       "      <td>16.19</td>\n",
       "      <td>21.01</td>\n",
       "    </tr>\n",
       "  </tbody>\n",
       "</table>\n",
       "</div>"
      ],
      "text/plain": [
       "        LAT       LON  YEAR  MO  DY  T2M_RANGE     TS  T2MDEW  T2MWET  \\\n",
       "0  41.77451 -74.27729  2020   8   1      14.37  24.58   15.59   15.42   \n",
       "1  41.77451 -74.27729  2020   8   2       8.73  24.33   20.65   20.57   \n",
       "2  41.77451 -74.27729  2020   8   3      10.66  24.39   16.23   16.03   \n",
       "3  41.77451 -74.27729  2020   8   4       5.20  21.13   20.19   20.17   \n",
       "4  41.77451 -74.27729  2020   8   5      10.10  20.91   16.51   16.40   \n",
       "\n",
       "   T2M_MAX  T2M_MIN    T2M  \n",
       "0    31.20    16.83  24.66  \n",
       "1    28.83    20.11  24.30  \n",
       "2    30.16    19.50  24.56  \n",
       "3    23.65    18.45  21.14  \n",
       "4    26.28    16.19  21.01  "
      ]
     },
     "execution_count": 112,
     "metadata": {},
     "output_type": "execute_result"
    }
   ],
   "source": [
    "temp_df.head()"
   ]
  },
  {
   "cell_type": "code",
   "execution_count": 113,
   "metadata": {},
   "outputs": [],
   "source": [
    "# creating datatime from multiply columns\n",
    "#  pandas 18 pd.to_datetime(df[['year', 'month', 'day']]) columns have to be that name\n",
    "\n",
    "temp_df['DATE'] = pd.to_datetime((temp_df.YEAR*10000+temp_df.MO*100+temp_df.DY).apply(str),format='%Y%m%d')"
   ]
  },
  {
   "cell_type": "code",
   "execution_count": 114,
   "metadata": {},
   "outputs": [],
   "source": [
    "# Remove old date columns\n",
    "\n",
    "temp_df.drop(['YEAR','MO','DY'], axis = 1, inplace = True)"
   ]
  },
  {
   "cell_type": "code",
   "execution_count": 137,
   "metadata": {},
   "outputs": [
    {
     "data": {
      "text/html": [
       "<div>\n",
       "<style scoped>\n",
       "    .dataframe tbody tr th:only-of-type {\n",
       "        vertical-align: middle;\n",
       "    }\n",
       "\n",
       "    .dataframe tbody tr th {\n",
       "        vertical-align: top;\n",
       "    }\n",
       "\n",
       "    .dataframe thead th {\n",
       "        text-align: right;\n",
       "    }\n",
       "</style>\n",
       "<table border=\"1\" class=\"dataframe\">\n",
       "  <thead>\n",
       "    <tr style=\"text-align: right;\">\n",
       "      <th></th>\n",
       "      <th>LAT</th>\n",
       "      <th>LON</th>\n",
       "      <th>T2M_RANGE</th>\n",
       "      <th>TS</th>\n",
       "      <th>T2MDEW</th>\n",
       "      <th>T2MWET</th>\n",
       "      <th>T2M_MAX</th>\n",
       "      <th>T2M_MIN</th>\n",
       "      <th>T2M</th>\n",
       "      <th>DATE</th>\n",
       "    </tr>\n",
       "  </thead>\n",
       "  <tbody>\n",
       "    <tr>\n",
       "      <th>0</th>\n",
       "      <td>41.77451</td>\n",
       "      <td>-74.27729</td>\n",
       "      <td>14.37</td>\n",
       "      <td>76.244</td>\n",
       "      <td>15.59</td>\n",
       "      <td>15.42</td>\n",
       "      <td>31.20</td>\n",
       "      <td>16.83</td>\n",
       "      <td>24.66</td>\n",
       "      <td>2020-08-01</td>\n",
       "    </tr>\n",
       "    <tr>\n",
       "      <th>1</th>\n",
       "      <td>41.77451</td>\n",
       "      <td>-74.27729</td>\n",
       "      <td>8.73</td>\n",
       "      <td>75.794</td>\n",
       "      <td>20.65</td>\n",
       "      <td>20.57</td>\n",
       "      <td>28.83</td>\n",
       "      <td>20.11</td>\n",
       "      <td>24.30</td>\n",
       "      <td>2020-08-02</td>\n",
       "    </tr>\n",
       "    <tr>\n",
       "      <th>2</th>\n",
       "      <td>41.77451</td>\n",
       "      <td>-74.27729</td>\n",
       "      <td>10.66</td>\n",
       "      <td>75.902</td>\n",
       "      <td>16.23</td>\n",
       "      <td>16.03</td>\n",
       "      <td>30.16</td>\n",
       "      <td>19.50</td>\n",
       "      <td>24.56</td>\n",
       "      <td>2020-08-03</td>\n",
       "    </tr>\n",
       "    <tr>\n",
       "      <th>3</th>\n",
       "      <td>41.77451</td>\n",
       "      <td>-74.27729</td>\n",
       "      <td>5.20</td>\n",
       "      <td>70.034</td>\n",
       "      <td>20.19</td>\n",
       "      <td>20.17</td>\n",
       "      <td>23.65</td>\n",
       "      <td>18.45</td>\n",
       "      <td>21.14</td>\n",
       "      <td>2020-08-04</td>\n",
       "    </tr>\n",
       "    <tr>\n",
       "      <th>4</th>\n",
       "      <td>41.77451</td>\n",
       "      <td>-74.27729</td>\n",
       "      <td>10.10</td>\n",
       "      <td>69.638</td>\n",
       "      <td>16.51</td>\n",
       "      <td>16.40</td>\n",
       "      <td>26.28</td>\n",
       "      <td>16.19</td>\n",
       "      <td>21.01</td>\n",
       "      <td>2020-08-05</td>\n",
       "    </tr>\n",
       "  </tbody>\n",
       "</table>\n",
       "</div>"
      ],
      "text/plain": [
       "        LAT       LON  T2M_RANGE      TS  T2MDEW  T2MWET  T2M_MAX  T2M_MIN  \\\n",
       "0  41.77451 -74.27729      14.37  76.244   15.59   15.42    31.20    16.83   \n",
       "1  41.77451 -74.27729       8.73  75.794   20.65   20.57    28.83    20.11   \n",
       "2  41.77451 -74.27729      10.66  75.902   16.23   16.03    30.16    19.50   \n",
       "3  41.77451 -74.27729       5.20  70.034   20.19   20.17    23.65    18.45   \n",
       "4  41.77451 -74.27729      10.10  69.638   16.51   16.40    26.28    16.19   \n",
       "\n",
       "     T2M       DATE  \n",
       "0  24.66 2020-08-01  \n",
       "1  24.30 2020-08-02  \n",
       "2  24.56 2020-08-03  \n",
       "3  21.14 2020-08-04  \n",
       "4  21.01 2020-08-05  "
      ]
     },
     "execution_count": 137,
     "metadata": {},
     "output_type": "execute_result"
    }
   ],
   "source": [
    "# set datetime to index\n",
    "\n",
    "#temp_df.set_index('DATE', inplace = True)\n",
    "temp_df.head()"
   ]
  },
  {
   "cell_type": "markdown",
   "metadata": {},
   "source": [
    "temp_df.tail()"
   ]
  },
  {
   "cell_type": "code",
   "execution_count": 124,
   "metadata": {},
   "outputs": [],
   "source": [
    "temp_df.drop([207,208], axis = 0, inplace = True)"
   ]
  },
  {
   "cell_type": "code",
   "execution_count": 133,
   "metadata": {},
   "outputs": [],
   "source": [
    "# lambda function C to F\n",
    "\n",
    "c_to_f = lambda x : (x * 9/5) + 32 "
   ]
  },
  {
   "cell_type": "code",
   "execution_count": 136,
   "metadata": {},
   "outputs": [],
   "source": [
    "\n",
    "temp_df['TS'] = c_to_f(temp_df['TS'])"
   ]
  },
  {
   "cell_type": "code",
   "execution_count": 138,
   "metadata": {},
   "outputs": [],
   "source": [
    "\n",
    "temp_df['T2M'] = c_to_f(temp_df['T2M'])"
   ]
  },
  {
   "cell_type": "code",
   "execution_count": 139,
   "metadata": {},
   "outputs": [
    {
     "data": {
      "text/plain": [
       "7.3039999999999985"
      ]
     },
     "execution_count": 139,
     "metadata": {},
     "output_type": "execute_result"
    }
   ],
   "source": [
    "\n",
    "temp_df['T2M'].min()"
   ]
  },
  {
   "cell_type": "markdown",
   "metadata": {},
   "source": [
    "# "
   ]
  },
  {
   "cell_type": "code",
   "execution_count": 140,
   "metadata": {},
   "outputs": [
    {
     "data": {
      "image/png": "[encoded data removed]",
      "text/plain": [
       "<Figure size 792x792 with 1 Axes>"
      ]
     },
     "metadata": {
      "needs_background": "light"
     },
     "output_type": "display_data"
    }
   ],
   "source": [
    "\n",
    "\n",
    "\n",
    "plt.figure(figsize = (11,11))\n",
    "sns.lineplot(data = temp_df, x = 'DATE', y = 'T2M');\n",
    "\n",
    "# x & y labels\n",
    "\n",
    "# add grid\n",
    "\n",
    "# add more date tics\n",
    "\n",
    "# add more temp tics\n",
    "\n"
   ]
  },
  {
   "cell_type": "code",
   "execution_count": 143,
   "metadata": {},
   "outputs": [
    {
     "data": {
      "image/png": "[encoded data removed]",
      "text/plain": [
       "<Figure size 432x288 with 2 Axes>"
      ]
     },
     "metadata": {
      "needs_background": "light"
     },
     "output_type": "display_data"
    }
   ],
   "source": [
    "# both plots on one graph \n",
    "\n",
    "#temp_df, x = 'DATE', y = 'T2M'\n",
    "\n",
    "fig, ax_left = plt.subplots()\n",
    "ax_right = ax_left.twinx()\n",
    "\n",
    "\n",
    "ax_left.plot('date', 'gal', data = gas_df, color='orange') \n",
    "ax_right.plot('DATE', 'T2M', data = temp_df, color='green');"
   ]
  },
  {
   "cell_type": "code",
   "execution_count": 15,
   "metadata": {},
   "outputs": [
    {
     "data": {
      "image/png": "[encoded data removed]",
      "text/plain": [
       "<Figure size 792x504 with 6 Axes>"
      ]
     },
     "metadata": {
      "needs_background": "light"
     },
     "output_type": "display_data"
    }
   ],
   "source": [
    "#\n",
    "\n",
    "df.hist(figsize = (11,7));"
   ]
  },
  {
   "cell_type": "code",
   "execution_count": 18,
   "metadata": {},
   "outputs": [
    {
     "data": {
      "image/png": "[encoded data removed]",
      "text/plain": [
       "<Figure size 792x504 with 1 Axes>"
      ]
     },
     "metadata": {
      "needs_background": "light"
     },
     "output_type": "display_data"
    }
   ],
   "source": [
    "\n",
    "\n",
    "df.plot('transaction date', 'gal', figsize = (11,7));"
   ]
  },
  {
   "cell_type": "markdown",
   "metadata": {},
   "source": [
    "# Weather Station Data\n",
    "<hr />"
   ]
  },
  {
   "cell_type": "markdown",
   "metadata": {},
   "source": [
    ": ---:--- :---:\n",
    "|a|b|x|\n",
    ": ---:--- :---:"
   ]
  },
  {
   "cell_type": "markdown",
   "metadata": {},
   "source": [
    "##  Data Dictory \n",
    "\n",
    "Air Temperature\n",
    "\n",
    "TMAX\tMaximum temperature\n",
    "TMIN\tMinimum temperature\n",
    "TOBS\tTemperature at the time of observation\n",
    "\n",
    "Percipitation\n",
    "\n",
    "DAPR\tNumber of days included in the multiday precipitation total (MDPR)\n",
    "DASF\tNumber of days included in the multiday snow fall total (MDSF)\n",
    "MDPR\tMultiday precipitation total (use with DAPR and DWPR, if available)\n",
    "MDSF\tMultiday snowfall total\n",
    "PRCP\tPrecipitation\n",
    "SNOW\tSnowfall\n",
    "SNWD\tSnow depth\n",
    "\n",
    "Water\n",
    "\n",
    "WESD\tWater equivalent of snow on the ground\n",
    "WESF\tWater equivalent of snowfall\n",
    "\n",
    "Weather Type\n",
    "\n",
    "WT01\tFog, ice fog, or freezing fog (may include heavy fog)\n",
    "WT03\tThunder\n",
    "WT04\tIce pellets, sleet, snow pellets, or small hail\"\n",
    "WT05\tHail (may include small hail)\n",
    "WT06\tGlaze or rime\n",
    "WT08\tSmoke or haze\n",
    "WT09\tBlowing or drifting snow\n",
    "WT10\tTornado, waterspout, or funnel cloud\"\n",
    "WT11\tHigh or damaging winds\n",
    "WT14\tDrizzle\n",
    "WT16\tRain (may include freezing rain, drizzle, and freezing drizzle)\"\n",
    "WT18\tSnow, snow pellets, snow grains, or ice crystals\n",
    "\n",
    "\n"
   ]
  },
  {
   "cell_type": "markdown",
   "metadata": {},
   "source": [
    "## Best version of NOAA data\n",
    "\n",
    "We downloaded the temp data from NOAA in 3 different ways to understand which way is the most complete. "
   ]
  },
  {
   "cell_type": "code",
   "execution_count": 111,
   "metadata": {},
   "outputs": [
    {
     "name": "stdout",
     "output_type": "stream",
     "text": [
      "(2604, 13)\n"
     ]
    }
   ],
   "source": [
    "print(df_.shape)\n",
    "df_['STATION'].nunique()"
   ]
  },
  {
   "cell_type": "code",
   "execution_count": 112,
   "metadata": {},
   "outputs": [
    {
     "name": "stdout",
     "output_type": "stream",
     "text": [
      "(2604, 26)\n"
     ]
    },
    {
     "data": {
      "text/plain": [
       "16"
      ]
     },
     "execution_count": 112,
     "metadata": {},
     "output_type": "execute_result"
    }
   ],
   "source": [
    "# by Ulster \n",
    "\n",
    "print(_df.shape)\n",
    "_df['STATION'].nunique()"
   ]
  },
  {
   "cell_type": "code",
   "execution_count": 114,
   "metadata": {},
   "outputs": [
    {
     "name": "stdout",
     "output_type": "stream",
     "text": [
      "(553, 20)\n"
     ]
    },
    {
     "data": {
      "text/plain": [
       "13"
      ]
     },
     "execution_count": 114,
     "metadata": {},
     "output_type": "execute_result"
    }
   ],
   "source": [
    "print(_df_.shape)\n",
    "_df_['STATION'].nunique()"
   ]
  },
  {
   "cell_type": "markdown",
   "metadata": {},
   "source": [
    "    The last version is the most complete \n",
    "    _df"
   ]
  },
  {
   "cell_type": "code",
   "execution_count": 20,
   "metadata": {},
   "outputs": [
    {
     "data": {
      "text/html": [
       "<div>\n",
       "<style scoped>\n",
       "    .dataframe tbody tr th:only-of-type {\n",
       "        vertical-align: middle;\n",
       "    }\n",
       "\n",
       "    .dataframe tbody tr th {\n",
       "        vertical-align: top;\n",
       "    }\n",
       "\n",
       "    .dataframe thead th {\n",
       "        text-align: right;\n",
       "    }\n",
       "</style>\n",
       "<table border=\"1\" class=\"dataframe\">\n",
       "  <thead>\n",
       "    <tr style=\"text-align: right;\">\n",
       "      <th></th>\n",
       "      <th>589</th>\n",
       "      <th>1990</th>\n",
       "      <th>1841</th>\n",
       "    </tr>\n",
       "  </thead>\n",
       "  <tbody>\n",
       "    <tr>\n",
       "      <th>STATION</th>\n",
       "      <td>US1NYUL0032</td>\n",
       "      <td>US1NYUL0028</td>\n",
       "      <td>USC00306570</td>\n",
       "    </tr>\n",
       "    <tr>\n",
       "      <th>NAME</th>\n",
       "      <td>ESOPUS 0.8 NNE, NY US</td>\n",
       "      <td>KERHONKSON 3.7 N, NY US</td>\n",
       "      <td>PHONECIA 2 SW, NY US</td>\n",
       "    </tr>\n",
       "    <tr>\n",
       "      <th>LATITUDE</th>\n",
       "      <td>41.8385</td>\n",
       "      <td>41.8321</td>\n",
       "      <td>42.0674</td>\n",
       "    </tr>\n",
       "    <tr>\n",
       "      <th>LONGITUDE</th>\n",
       "      <td>-73.9588</td>\n",
       "      <td>-74.3012</td>\n",
       "      <td>-74.3356</td>\n",
       "    </tr>\n",
       "    <tr>\n",
       "      <th>ELEVATION</th>\n",
       "      <td>49.4</td>\n",
       "      <td>273.1</td>\n",
       "      <td>323.1</td>\n",
       "    </tr>\n",
       "    <tr>\n",
       "      <th>DATE</th>\n",
       "      <td>2020-09-04</td>\n",
       "      <td>2020-09-15</td>\n",
       "      <td>2020-09-19</td>\n",
       "    </tr>\n",
       "    <tr>\n",
       "      <th>DAPR</th>\n",
       "      <td>NaN</td>\n",
       "      <td>NaN</td>\n",
       "      <td>NaN</td>\n",
       "    </tr>\n",
       "    <tr>\n",
       "      <th>DAPR_ATTRIBUTES</th>\n",
       "      <td>NaN</td>\n",
       "      <td>NaN</td>\n",
       "      <td>NaN</td>\n",
       "    </tr>\n",
       "    <tr>\n",
       "      <th>MDPR</th>\n",
       "      <td>NaN</td>\n",
       "      <td>NaN</td>\n",
       "      <td>NaN</td>\n",
       "    </tr>\n",
       "    <tr>\n",
       "      <th>MDPR_ATTRIBUTES</th>\n",
       "      <td>NaN</td>\n",
       "      <td>NaN</td>\n",
       "      <td>NaN</td>\n",
       "    </tr>\n",
       "    <tr>\n",
       "      <th>PRCP</th>\n",
       "      <td>0</td>\n",
       "      <td>0</td>\n",
       "      <td>0</td>\n",
       "    </tr>\n",
       "    <tr>\n",
       "      <th>PRCP_ATTRIBUTES</th>\n",
       "      <td>T,,N</td>\n",
       "      <td>,,N</td>\n",
       "      <td>,,7,0700</td>\n",
       "    </tr>\n",
       "    <tr>\n",
       "      <th>SNOW</th>\n",
       "      <td>NaN</td>\n",
       "      <td>0</td>\n",
       "      <td>0</td>\n",
       "    </tr>\n",
       "    <tr>\n",
       "      <th>SNOW_ATTRIBUTES</th>\n",
       "      <td>NaN</td>\n",
       "      <td>,,N</td>\n",
       "      <td>,,7,0700</td>\n",
       "    </tr>\n",
       "    <tr>\n",
       "      <th>SNWD</th>\n",
       "      <td>NaN</td>\n",
       "      <td>NaN</td>\n",
       "      <td>0</td>\n",
       "    </tr>\n",
       "    <tr>\n",
       "      <th>SNWD_ATTRIBUTES</th>\n",
       "      <td>NaN</td>\n",
       "      <td>NaN</td>\n",
       "      <td>,,7,0700</td>\n",
       "    </tr>\n",
       "    <tr>\n",
       "      <th>TMAX</th>\n",
       "      <td>NaN</td>\n",
       "      <td>NaN</td>\n",
       "      <td>NaN</td>\n",
       "    </tr>\n",
       "    <tr>\n",
       "      <th>TMAX_ATTRIBUTES</th>\n",
       "      <td>NaN</td>\n",
       "      <td>NaN</td>\n",
       "      <td>NaN</td>\n",
       "    </tr>\n",
       "    <tr>\n",
       "      <th>TMIN</th>\n",
       "      <td>NaN</td>\n",
       "      <td>NaN</td>\n",
       "      <td>NaN</td>\n",
       "    </tr>\n",
       "    <tr>\n",
       "      <th>TMIN_ATTRIBUTES</th>\n",
       "      <td>NaN</td>\n",
       "      <td>NaN</td>\n",
       "      <td>NaN</td>\n",
       "    </tr>\n",
       "    <tr>\n",
       "      <th>TOBS</th>\n",
       "      <td>NaN</td>\n",
       "      <td>NaN</td>\n",
       "      <td>NaN</td>\n",
       "    </tr>\n",
       "    <tr>\n",
       "      <th>TOBS_ATTRIBUTES</th>\n",
       "      <td>NaN</td>\n",
       "      <td>NaN</td>\n",
       "      <td>NaN</td>\n",
       "    </tr>\n",
       "    <tr>\n",
       "      <th>WESD</th>\n",
       "      <td>NaN</td>\n",
       "      <td>NaN</td>\n",
       "      <td>NaN</td>\n",
       "    </tr>\n",
       "    <tr>\n",
       "      <th>WESD_ATTRIBUTES</th>\n",
       "      <td>NaN</td>\n",
       "      <td>NaN</td>\n",
       "      <td>NaN</td>\n",
       "    </tr>\n",
       "    <tr>\n",
       "      <th>WESF</th>\n",
       "      <td>NaN</td>\n",
       "      <td>NaN</td>\n",
       "      <td>NaN</td>\n",
       "    </tr>\n",
       "    <tr>\n",
       "      <th>WESF_ATTRIBUTES</th>\n",
       "      <td>NaN</td>\n",
       "      <td>NaN</td>\n",
       "      <td>NaN</td>\n",
       "    </tr>\n",
       "  </tbody>\n",
       "</table>\n",
       "</div>"
      ],
      "text/plain": [
       "                                  589                      1990  \\\n",
       "STATION                    US1NYUL0032              US1NYUL0028   \n",
       "NAME             ESOPUS 0.8 NNE, NY US  KERHONKSON 3.7 N, NY US   \n",
       "LATITUDE                       41.8385                  41.8321   \n",
       "LONGITUDE                     -73.9588                 -74.3012   \n",
       "ELEVATION                         49.4                    273.1   \n",
       "DATE                        2020-09-04               2020-09-15   \n",
       "DAPR                               NaN                      NaN   \n",
       "DAPR_ATTRIBUTES                    NaN                      NaN   \n",
       "MDPR                               NaN                      NaN   \n",
       "MDPR_ATTRIBUTES                    NaN                      NaN   \n",
       "PRCP                                 0                        0   \n",
       "PRCP_ATTRIBUTES                   T,,N                      ,,N   \n",
       "SNOW                               NaN                        0   \n",
       "SNOW_ATTRIBUTES                    NaN                      ,,N   \n",
       "SNWD                               NaN                      NaN   \n",
       "SNWD_ATTRIBUTES                    NaN                      NaN   \n",
       "TMAX                               NaN                      NaN   \n",
       "TMAX_ATTRIBUTES                    NaN                      NaN   \n",
       "TMIN                               NaN                      NaN   \n",
       "TMIN_ATTRIBUTES                    NaN                      NaN   \n",
       "TOBS                               NaN                      NaN   \n",
       "TOBS_ATTRIBUTES                    NaN                      NaN   \n",
       "WESD                               NaN                      NaN   \n",
       "WESD_ATTRIBUTES                    NaN                      NaN   \n",
       "WESF                               NaN                      NaN   \n",
       "WESF_ATTRIBUTES                    NaN                      NaN   \n",
       "\n",
       "                                 1841  \n",
       "STATION                   USC00306570  \n",
       "NAME             PHONECIA 2 SW, NY US  \n",
       "LATITUDE                      42.0674  \n",
       "LONGITUDE                    -74.3356  \n",
       "ELEVATION                       323.1  \n",
       "DATE                       2020-09-19  \n",
       "DAPR                              NaN  \n",
       "DAPR_ATTRIBUTES                   NaN  \n",
       "MDPR                              NaN  \n",
       "MDPR_ATTRIBUTES                   NaN  \n",
       "PRCP                                0  \n",
       "PRCP_ATTRIBUTES              ,,7,0700  \n",
       "SNOW                                0  \n",
       "SNOW_ATTRIBUTES              ,,7,0700  \n",
       "SNWD                                0  \n",
       "SNWD_ATTRIBUTES              ,,7,0700  \n",
       "TMAX                              NaN  \n",
       "TMAX_ATTRIBUTES                   NaN  \n",
       "TMIN                              NaN  \n",
       "TMIN_ATTRIBUTES                   NaN  \n",
       "TOBS                              NaN  \n",
       "TOBS_ATTRIBUTES                   NaN  \n",
       "WESD                              NaN  \n",
       "WESD_ATTRIBUTES                   NaN  \n",
       "WESF                              NaN  \n",
       "WESF_ATTRIBUTES                   NaN  "
      ]
     },
     "execution_count": 20,
     "metadata": {},
     "output_type": "execute_result"
    }
   ],
   "source": [
    "# the data  \n",
    "\n",
    "_df.sample(3).T"
   ]
  },
  {
   "cell_type": "markdown",
   "metadata": {},
   "source": [
    "? what are the attributes columns?\n"
   ]
  },
  {
   "cell_type": "code",
   "execution_count": 43,
   "metadata": {},
   "outputs": [
    {
     "data": {
      "text/plain": [
       "16"
      ]
     },
     "execution_count": 43,
     "metadata": {},
     "output_type": "execute_result"
    }
   ],
   "source": [
    "# how many observations centers are being used \n",
    "\n",
    "_df['STATION'].nunique()"
   ]
  },
  {
   "cell_type": "code",
   "execution_count": 24,
   "metadata": {},
   "outputs": [
    {
     "data": {
      "text/plain": [
       "array(['US1NYUL0015', 'US1NYUL0016', 'US1NYUL0019', 'US1NYUL0020',\n",
       "       'US1NYUL0021', 'US1NYUL0022', 'US1NYUL0023', 'US1NYUL0026',\n",
       "       'US1NYUL0028', 'US1NYUL0029', 'US1NYUL0031', 'US1NYUL0032',\n",
       "       'US1NYUL0034', 'USC00305426', 'USC00306570', 'USC00307274'],\n",
       "      dtype=object)"
      ]
     },
     "execution_count": 24,
     "metadata": {},
     "output_type": "execute_result"
    }
   ],
   "source": [
    "# names of stations\n",
    "\n",
    "np.unique(_df['STATION'])"
   ]
  },
  {
   "cell_type": "code",
   "execution_count": 33,
   "metadata": {},
   "outputs": [
    {
     "data": {
      "text/html": [
       "<div>\n",
       "<style scoped>\n",
       "    .dataframe tbody tr th:only-of-type {\n",
       "        vertical-align: middle;\n",
       "    }\n",
       "\n",
       "    .dataframe tbody tr th {\n",
       "        vertical-align: top;\n",
       "    }\n",
       "\n",
       "    .dataframe thead th {\n",
       "        text-align: right;\n",
       "    }\n",
       "</style>\n",
       "<table border=\"1\" class=\"dataframe\">\n",
       "  <thead>\n",
       "    <tr style=\"text-align: right;\">\n",
       "      <th></th>\n",
       "      <th></th>\n",
       "      <th>count</th>\n",
       "      <th>mean</th>\n",
       "    </tr>\n",
       "    <tr>\n",
       "      <th>STATION</th>\n",
       "      <th>NAME</th>\n",
       "      <th></th>\n",
       "      <th></th>\n",
       "    </tr>\n",
       "  </thead>\n",
       "  <tbody>\n",
       "    <tr>\n",
       "      <th>US1NYUL0015</th>\n",
       "      <th>STONE RIDGE 0.7 N, NY US</th>\n",
       "      <td>0</td>\n",
       "      <td>NaN</td>\n",
       "    </tr>\n",
       "    <tr>\n",
       "      <th>US1NYUL0016</th>\n",
       "      <th>ROSENDALE VILLAGE 1.8 WNW, NY US</th>\n",
       "      <td>0</td>\n",
       "      <td>NaN</td>\n",
       "    </tr>\n",
       "    <tr>\n",
       "      <th>US1NYUL0019</th>\n",
       "      <th>WOODSTOCK 0.8 ENE, NY US</th>\n",
       "      <td>0</td>\n",
       "      <td>NaN</td>\n",
       "    </tr>\n",
       "    <tr>\n",
       "      <th>US1NYUL0020</th>\n",
       "      <th>ULSTER PARK 0.9 NNW, NY US</th>\n",
       "      <td>0</td>\n",
       "      <td>NaN</td>\n",
       "    </tr>\n",
       "    <tr>\n",
       "      <th>US1NYUL0021</th>\n",
       "      <th>STONE RIDGE 0.5 WNW, NY US</th>\n",
       "      <td>0</td>\n",
       "      <td>NaN</td>\n",
       "    </tr>\n",
       "    <tr>\n",
       "      <th>US1NYUL0022</th>\n",
       "      <th>KINGSTON 2.1 N, NY US</th>\n",
       "      <td>0</td>\n",
       "      <td>NaN</td>\n",
       "    </tr>\n",
       "    <tr>\n",
       "      <th>US1NYUL0023</th>\n",
       "      <th>WEST HURLEY 0.1 S, NY US</th>\n",
       "      <td>0</td>\n",
       "      <td>NaN</td>\n",
       "    </tr>\n",
       "    <tr>\n",
       "      <th>US1NYUL0026</th>\n",
       "      <th>GARDINER 1.3 WNW, NY US</th>\n",
       "      <td>0</td>\n",
       "      <td>NaN</td>\n",
       "    </tr>\n",
       "    <tr>\n",
       "      <th>US1NYUL0028</th>\n",
       "      <th>KERHONKSON 3.7 N, NY US</th>\n",
       "      <td>0</td>\n",
       "      <td>NaN</td>\n",
       "    </tr>\n",
       "    <tr>\n",
       "      <th>US1NYUL0029</th>\n",
       "      <th>HIGHLAND 0.2 SW, NY US</th>\n",
       "      <td>0</td>\n",
       "      <td>NaN</td>\n",
       "    </tr>\n",
       "    <tr>\n",
       "      <th>US1NYUL0031</th>\n",
       "      <th>HURLEY 2.2 S, NY US</th>\n",
       "      <td>0</td>\n",
       "      <td>NaN</td>\n",
       "    </tr>\n",
       "    <tr>\n",
       "      <th>US1NYUL0032</th>\n",
       "      <th>ESOPUS 0.8 NNE, NY US</th>\n",
       "      <td>0</td>\n",
       "      <td>NaN</td>\n",
       "    </tr>\n",
       "    <tr>\n",
       "      <th>US1NYUL0034</th>\n",
       "      <th>WALLKILL 3.7 E, NY US</th>\n",
       "      <td>0</td>\n",
       "      <td>NaN</td>\n",
       "    </tr>\n",
       "    <tr>\n",
       "      <th>USC00305426</th>\n",
       "      <th>MOHONK LAKE, NY US</th>\n",
       "      <td>31</td>\n",
       "      <td>80.548387</td>\n",
       "    </tr>\n",
       "    <tr>\n",
       "      <th>USC00306570</th>\n",
       "      <th>PHONECIA 2 SW, NY US</th>\n",
       "      <td>0</td>\n",
       "      <td>NaN</td>\n",
       "    </tr>\n",
       "    <tr>\n",
       "      <th>USC00307274</th>\n",
       "      <th>ROSENDALE 2 E, NY US</th>\n",
       "      <td>0</td>\n",
       "      <td>NaN</td>\n",
       "    </tr>\n",
       "  </tbody>\n",
       "</table>\n",
       "</div>"
      ],
      "text/plain": [
       "                                              count       mean\n",
       "STATION     NAME                                              \n",
       "US1NYUL0015 STONE RIDGE 0.7 N, NY US              0        NaN\n",
       "US1NYUL0016 ROSENDALE VILLAGE 1.8 WNW, NY US      0        NaN\n",
       "US1NYUL0019 WOODSTOCK 0.8 ENE, NY US              0        NaN\n",
       "US1NYUL0020 ULSTER PARK 0.9 NNW, NY US            0        NaN\n",
       "US1NYUL0021 STONE RIDGE 0.5 WNW, NY US            0        NaN\n",
       "US1NYUL0022 KINGSTON 2.1 N, NY US                 0        NaN\n",
       "US1NYUL0023 WEST HURLEY 0.1 S, NY US              0        NaN\n",
       "US1NYUL0026 GARDINER 1.3 WNW, NY US               0        NaN\n",
       "US1NYUL0028 KERHONKSON 3.7 N, NY US               0        NaN\n",
       "US1NYUL0029 HIGHLAND 0.2 SW, NY US                0        NaN\n",
       "US1NYUL0031 HURLEY 2.2 S, NY US                   0        NaN\n",
       "US1NYUL0032 ESOPUS 0.8 NNE, NY US                 0        NaN\n",
       "US1NYUL0034 WALLKILL 3.7 E, NY US                 0        NaN\n",
       "USC00305426 MOHONK LAKE, NY US                   31  80.548387\n",
       "USC00306570 PHONECIA 2 SW, NY US                  0        NaN\n",
       "USC00307274 ROSENDALE 2 E, NY US                  0        NaN"
      ]
     },
     "execution_count": 33,
     "metadata": {},
     "output_type": "execute_result"
    }
   ],
   "source": [
    "# list of stations and count of data they have\n",
    "\n",
    "_df.groupby(['STATION','NAME'])['TOBS'].agg(['count', 'mean'])"
   ]
  },
  {
   "cell_type": "markdown",
   "metadata": {},
   "source": [
    "Only one station, #USC00305426 in Mohonk Lake, NY has a record of temperature.   "
   ]
  },
  {
   "cell_type": "code",
   "execution_count": 39,
   "metadata": {},
   "outputs": [
    {
     "data": {
      "text/plain": [
       "0     2020-08-01\n",
       "1     2020-08-02\n",
       "2     2020-08-03\n",
       "3     2020-08-04\n",
       "4     2020-08-05\n",
       "5     2020-08-06\n",
       "6     2020-08-07\n",
       "7     2020-08-08\n",
       "8     2020-08-09\n",
       "9     2020-08-10\n",
       "10    2020-08-11\n",
       "11    2020-08-12\n",
       "12    2020-08-13\n",
       "13    2020-08-14\n",
       "14    2020-08-15\n",
       "15    2020-08-16\n",
       "16    2020-08-17\n",
       "17    2020-08-18\n",
       "18    2020-08-19\n",
       "19    2020-08-20\n",
       "20    2020-08-21\n",
       "21    2020-08-22\n",
       "22    2020-08-23\n",
       "23    2020-08-24\n",
       "24    2020-08-25\n",
       "25    2020-08-26\n",
       "26    2020-08-27\n",
       "27    2020-08-28\n",
       "28    2020-08-29\n",
       "29    2020-08-30\n",
       "30    2020-08-31\n",
       "Name: DATE, dtype: object"
      ]
     },
     "execution_count": 39,
     "metadata": {},
     "output_type": "execute_result"
    }
   ],
   "source": [
    "# inspect the info from #USC00305426 in Mohonk Lake, NY\n",
    "\n",
    "_df[_df['STATION'] == 'USC00305426']['DATE']"
   ]
  },
  {
   "cell_type": "markdown",
   "metadata": {},
   "source": [
    "     Temp Recordings for Mohonk Lake station where only done in Aug, not in the other months\n",
    "\n"
   ]
  },
  {
   "cell_type": "markdown",
   "metadata": {},
   "source": [
    "## _df_"
   ]
  },
  {
   "cell_type": "code",
   "execution_count": 44,
   "metadata": {},
   "outputs": [
    {
     "data": {
      "image/png": "[encoded data removed]",
      "text/plain": [
       "<Figure size 864x864 with 16 Axes>"
      ]
     },
     "metadata": {
      "needs_background": "light"
     },
     "output_type": "display_data"
    }
   ],
   "source": [
    "# graphs \n",
    "\n",
    "_df.hist(figsize = (12,12));"
   ]
  },
  {
   "cell_type": "code",
   "execution_count": null,
   "metadata": {},
   "outputs": [],
   "source": []
  }
 ],
 "metadata": {
  "kernelspec": {
   "display_name": "Python 3",
   "language": "python",
   "name": "python3"
  },
  "language_info": {
   "codemirror_mode": {
    "name": "ipython",
    "version": 3
   },
   "file_extension": ".py",
   "mimetype": "text/x-python",
   "name": "python",
   "nbconvert_exporter": "python",
   "pygments_lexer": "ipython3",
   "version": "3.8.2"
  }
 },
 "nbformat": 4,
 "nbformat_minor": 4
}
