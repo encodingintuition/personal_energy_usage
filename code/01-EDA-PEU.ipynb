{
 "cells": [
  {
   "cell_type": "markdown",
   "metadata": {},
   "source": [
    "# Personal Energy Usage \n",
    "<hr/>\n",
    "Objective: \n",
    "<hr/>"
   ]
  },
  {
   "cell_type": "code",
   "execution_count": 417,
   "metadata": {},
   "outputs": [],
   "source": [
    "# vis \n",
    "import matplotlib.pyplot as plt\n",
    "import matplotlib.ticker as ticker\n",
    "import seaborn as sns\n",
    "sns.set(rc = {'figure.figsize': (11,8)})\n",
    "\n",
    "# pliers\n",
    "import pandas as pd\n",
    "import numpy as np\n",
    "\n",
    "from datetime import datetime"
   ]
  },
  {
   "cell_type": "markdown",
   "metadata": {},
   "source": [
    "# Contents\n",
    "- [Data Ingestion](#Data-Ingenstion)\n",
    "- [Data Clean Up](#Data-Clean-up)\n",
    "    - [Propane Data](#Propane-Data)\n",
    "    - [Temperature Data](#Temperature-Data)\n",
    "- [Visualize](#EDA---Visualize)\n",
    "    - [Temperature Vis](#Temperature-Vis)\n",
    "    - [Propaine Vis](#Propaine-Vis)\n",
    "    - [Combined Vis](#Combined-Vis)\n",
    "- [Combined DataFrames](#Combined-DataFrames)\n"
   ]
  },
  {
   "cell_type": "markdown",
   "metadata": {},
   "source": [
    "# Data Ingestion"
   ]
  },
  {
   "cell_type": "code",
   "execution_count": 418,
   "metadata": {},
   "outputs": [
    {
     "name": "stdout",
     "output_type": "stream",
     "text": [
      "(7, 6)\n"
     ]
    },
    {
     "data": {
      "text/html": [
       "<div>\n",
       "<style scoped>\n",
       "    .dataframe tbody tr th:only-of-type {\n",
       "        vertical-align: middle;\n",
       "    }\n",
       "\n",
       "    .dataframe tbody tr th {\n",
       "        vertical-align: top;\n",
       "    }\n",
       "\n",
       "    .dataframe thead th {\n",
       "        text-align: right;\n",
       "    }\n",
       "</style>\n",
       "<table border=\"1\" class=\"dataframe\">\n",
       "  <thead>\n",
       "    <tr style=\"text-align: right;\">\n",
       "      <th></th>\n",
       "      <th>invoice number</th>\n",
       "      <th>transaction date</th>\n",
       "      <th>cost</th>\n",
       "      <th>gal</th>\n",
       "      <th>Environmental Compliance Fee</th>\n",
       "      <th>cost per gal</th>\n",
       "    </tr>\n",
       "  </thead>\n",
       "  <tbody>\n",
       "    <tr>\n",
       "      <th>0</th>\n",
       "      <td>NaN</td>\n",
       "      <td>NaT</td>\n",
       "      <td>NaN</td>\n",
       "      <td>NaN</td>\n",
       "      <td>NaN</td>\n",
       "      <td>NaN</td>\n",
       "    </tr>\n",
       "    <tr>\n",
       "      <th>1</th>\n",
       "      <td>NaN</td>\n",
       "      <td>NaT</td>\n",
       "      <td>NaN</td>\n",
       "      <td>NaN</td>\n",
       "      <td>NaN</td>\n",
       "      <td>NaN</td>\n",
       "    </tr>\n",
       "    <tr>\n",
       "      <th>2</th>\n",
       "      <td>676952.0</td>\n",
       "      <td>2020-10-02</td>\n",
       "      <td>117.04</td>\n",
       "      <td>55.3</td>\n",
       "      <td>6.99</td>\n",
       "      <td>1.99</td>\n",
       "    </tr>\n",
       "    <tr>\n",
       "      <th>3</th>\n",
       "      <td>681181.0</td>\n",
       "      <td>2020-11-25</td>\n",
       "      <td>320.20</td>\n",
       "      <td>103.5</td>\n",
       "      <td>6.99</td>\n",
       "      <td>NaN</td>\n",
       "    </tr>\n",
       "    <tr>\n",
       "      <th>4</th>\n",
       "      <td>685620.0</td>\n",
       "      <td>2020-12-26</td>\n",
       "      <td>205.99</td>\n",
       "      <td>100.0</td>\n",
       "      <td>6.99</td>\n",
       "      <td>1.99</td>\n",
       "    </tr>\n",
       "  </tbody>\n",
       "</table>\n",
       "</div>"
      ],
      "text/plain": [
       "   invoice number transaction date    cost    gal  \\\n",
       "0             NaN              NaT     NaN    NaN   \n",
       "1             NaN              NaT     NaN    NaN   \n",
       "2        676952.0       2020-10-02  117.04   55.3   \n",
       "3        681181.0       2020-11-25  320.20  103.5   \n",
       "4        685620.0       2020-12-26  205.99  100.0   \n",
       "\n",
       "   Environmental Compliance Fee  cost per gal  \n",
       "0                           NaN           NaN  \n",
       "1                           NaN           NaN  \n",
       "2                          6.99          1.99  \n",
       "3                          6.99           NaN  \n",
       "4                          6.99          1.99  "
      ]
     },
     "execution_count": 418,
     "metadata": {},
     "output_type": "execute_result"
    }
   ],
   "source": [
    "propane_df = pd.read_excel('../data/gas_used.xlsx')\n",
    "print(propane_df.shape)\n",
    "propane_df.head()"
   ]
  },
  {
   "cell_type": "markdown",
   "metadata": {},
   "source": [
    "### Data Dictonary for Temp data\n",
    "\n",
    "T2M_RANGE MERRA2 1/2x1/2 Temperature Range at 2 Meters (C) \t\t\t\t\t\t\t\n",
    "T2M_MAX MERRA2 1/2x1/2 Maximum Temperature at 2 Meters (C) \t\t\t\t\t\t\t\n",
    "T2M_MIN MERRA2 1/2x1/2 Minimum Temperature at 2 Meters (C) \t\t\t\t\t\t\t\n",
    "T2M MERRA2 1/2x1/2 Temperature at 2 Meters (C) \t\t\t\t\t\t\t\n",
    "TS MERRA2 1/2x1/2 Earth Skin Temperature (C) \t\t\t\t\t\t\t\n",
    "T2MDEW MERRA2 1/2x1/2 Dew/Frost Point at 2 Meters (C) \t\t\t\t\t\t\t\n",
    "T2MWET MERRA2 1/2x1/2 Wet Bulb Temperature at 2 Meters (C) \t\t\t\t\t\t\t\n"
   ]
  },
  {
   "cell_type": "code",
   "execution_count": 419,
   "metadata": {},
   "outputs": [
    {
     "name": "stdout",
     "output_type": "stream",
     "text": [
      "(209, 12)\n"
     ]
    },
    {
     "data": {
      "text/html": [
       "<div>\n",
       "<style scoped>\n",
       "    .dataframe tbody tr th:only-of-type {\n",
       "        vertical-align: middle;\n",
       "    }\n",
       "\n",
       "    .dataframe tbody tr th {\n",
       "        vertical-align: top;\n",
       "    }\n",
       "\n",
       "    .dataframe thead th {\n",
       "        text-align: right;\n",
       "    }\n",
       "</style>\n",
       "<table border=\"1\" class=\"dataframe\">\n",
       "  <thead>\n",
       "    <tr style=\"text-align: right;\">\n",
       "      <th></th>\n",
       "      <th>LAT</th>\n",
       "      <th>LON</th>\n",
       "      <th>YEAR</th>\n",
       "      <th>MO</th>\n",
       "      <th>DY</th>\n",
       "      <th>T2M_RANGE</th>\n",
       "      <th>TS</th>\n",
       "      <th>T2MDEW</th>\n",
       "      <th>T2MWET</th>\n",
       "      <th>T2M_MAX</th>\n",
       "      <th>T2M_MIN</th>\n",
       "      <th>T2M</th>\n",
       "    </tr>\n",
       "  </thead>\n",
       "  <tbody>\n",
       "    <tr>\n",
       "      <th>0</th>\n",
       "      <td>41.77451</td>\n",
       "      <td>-74.27729</td>\n",
       "      <td>2020</td>\n",
       "      <td>8</td>\n",
       "      <td>1</td>\n",
       "      <td>14.37</td>\n",
       "      <td>24.58</td>\n",
       "      <td>15.59</td>\n",
       "      <td>15.42</td>\n",
       "      <td>31.20</td>\n",
       "      <td>16.83</td>\n",
       "      <td>24.66</td>\n",
       "    </tr>\n",
       "    <tr>\n",
       "      <th>1</th>\n",
       "      <td>41.77451</td>\n",
       "      <td>-74.27729</td>\n",
       "      <td>2020</td>\n",
       "      <td>8</td>\n",
       "      <td>2</td>\n",
       "      <td>8.73</td>\n",
       "      <td>24.33</td>\n",
       "      <td>20.65</td>\n",
       "      <td>20.57</td>\n",
       "      <td>28.83</td>\n",
       "      <td>20.11</td>\n",
       "      <td>24.30</td>\n",
       "    </tr>\n",
       "  </tbody>\n",
       "</table>\n",
       "</div>"
      ],
      "text/plain": [
       "        LAT       LON  YEAR  MO  DY  T2M_RANGE     TS  T2MDEW  T2MWET  \\\n",
       "0  41.77451 -74.27729  2020   8   1      14.37  24.58   15.59   15.42   \n",
       "1  41.77451 -74.27729  2020   8   2       8.73  24.33   20.65   20.57   \n",
       "\n",
       "   T2M_MAX  T2M_MIN    T2M  \n",
       "0    31.20    16.83  24.66  \n",
       "1    28.83    20.11  24.30  "
      ]
     },
     "execution_count": 419,
     "metadata": {},
     "output_type": "execute_result"
    }
   ],
   "source": [
    "# temp data from \n",
    "\n",
    "temp_df = pd.read_csv('../data/Daily_20200801_20210225_041d77N_74d28W_89a594ff - POWER_SinglePoint_Daily_20200801_20210225_041d77N_74d28W_89a594ff.csv',\n",
    "                      skiprows=16) #nrows=10\n",
    "print(temp_df.shape)\n",
    "temp_df.head(2)"
   ]
  },
  {
   "cell_type": "markdown",
   "metadata": {},
   "source": [
    " "
   ]
  },
  {
   "cell_type": "markdown",
   "metadata": {},
   "source": [
    "# Data Clean up \n",
    "<hr/>"
   ]
  },
  {
   "cell_type": "markdown",
   "metadata": {},
   "source": [
    "## Propane Data"
   ]
  },
  {
   "cell_type": "code",
   "execution_count": 420,
   "metadata": {},
   "outputs": [
    {
     "data": {
      "text/html": [
       "<div>\n",
       "<style scoped>\n",
       "    .dataframe tbody tr th:only-of-type {\n",
       "        vertical-align: middle;\n",
       "    }\n",
       "\n",
       "    .dataframe tbody tr th {\n",
       "        vertical-align: top;\n",
       "    }\n",
       "\n",
       "    .dataframe thead th {\n",
       "        text-align: right;\n",
       "    }\n",
       "</style>\n",
       "<table border=\"1\" class=\"dataframe\">\n",
       "  <thead>\n",
       "    <tr style=\"text-align: right;\">\n",
       "      <th></th>\n",
       "      <th>invoice number</th>\n",
       "      <th>transaction date</th>\n",
       "      <th>cost</th>\n",
       "      <th>gal</th>\n",
       "      <th>Environmental Compliance Fee</th>\n",
       "      <th>cost per gal</th>\n",
       "    </tr>\n",
       "  </thead>\n",
       "  <tbody>\n",
       "    <tr>\n",
       "      <th>0</th>\n",
       "      <td>NaN</td>\n",
       "      <td>NaT</td>\n",
       "      <td>NaN</td>\n",
       "      <td>NaN</td>\n",
       "      <td>NaN</td>\n",
       "      <td>NaN</td>\n",
       "    </tr>\n",
       "    <tr>\n",
       "      <th>1</th>\n",
       "      <td>NaN</td>\n",
       "      <td>NaT</td>\n",
       "      <td>NaN</td>\n",
       "      <td>NaN</td>\n",
       "      <td>NaN</td>\n",
       "      <td>NaN</td>\n",
       "    </tr>\n",
       "    <tr>\n",
       "      <th>2</th>\n",
       "      <td>676952.0</td>\n",
       "      <td>2020-10-02</td>\n",
       "      <td>117.04</td>\n",
       "      <td>55.3</td>\n",
       "      <td>6.99</td>\n",
       "      <td>1.99</td>\n",
       "    </tr>\n",
       "    <tr>\n",
       "      <th>3</th>\n",
       "      <td>681181.0</td>\n",
       "      <td>2020-11-25</td>\n",
       "      <td>320.20</td>\n",
       "      <td>103.5</td>\n",
       "      <td>6.99</td>\n",
       "      <td>NaN</td>\n",
       "    </tr>\n",
       "    <tr>\n",
       "      <th>4</th>\n",
       "      <td>685620.0</td>\n",
       "      <td>2020-12-26</td>\n",
       "      <td>205.99</td>\n",
       "      <td>100.0</td>\n",
       "      <td>6.99</td>\n",
       "      <td>1.99</td>\n",
       "    </tr>\n",
       "    <tr>\n",
       "      <th>5</th>\n",
       "      <td>688270.0</td>\n",
       "      <td>2021-01-20</td>\n",
       "      <td>224.70</td>\n",
       "      <td>109.4</td>\n",
       "      <td>6.99</td>\n",
       "      <td>1.99</td>\n",
       "    </tr>\n",
       "    <tr>\n",
       "      <th>6</th>\n",
       "      <td>692265.0</td>\n",
       "      <td>2021-02-17</td>\n",
       "      <td>205.99</td>\n",
       "      <td>100.0</td>\n",
       "      <td>6.99</td>\n",
       "      <td>1.99</td>\n",
       "    </tr>\n",
       "  </tbody>\n",
       "</table>\n",
       "</div>"
      ],
      "text/plain": [
       "   invoice number transaction date    cost    gal  \\\n",
       "0             NaN              NaT     NaN    NaN   \n",
       "1             NaN              NaT     NaN    NaN   \n",
       "2        676952.0       2020-10-02  117.04   55.3   \n",
       "3        681181.0       2020-11-25  320.20  103.5   \n",
       "4        685620.0       2020-12-26  205.99  100.0   \n",
       "5        688270.0       2021-01-20  224.70  109.4   \n",
       "6        692265.0       2021-02-17  205.99  100.0   \n",
       "\n",
       "   Environmental Compliance Fee  cost per gal  \n",
       "0                           NaN           NaN  \n",
       "1                           NaN           NaN  \n",
       "2                          6.99          1.99  \n",
       "3                          6.99           NaN  \n",
       "4                          6.99          1.99  \n",
       "5                          6.99          1.99  \n",
       "6                          6.99          1.99  "
      ]
     },
     "execution_count": 420,
     "metadata": {},
     "output_type": "execute_result"
    }
   ],
   "source": [
    "propane_df"
   ]
  },
  {
   "cell_type": "code",
   "execution_count": 421,
   "metadata": {},
   "outputs": [
    {
     "data": {
      "text/html": [
       "<div>\n",
       "<style scoped>\n",
       "    .dataframe tbody tr th:only-of-type {\n",
       "        vertical-align: middle;\n",
       "    }\n",
       "\n",
       "    .dataframe tbody tr th {\n",
       "        vertical-align: top;\n",
       "    }\n",
       "\n",
       "    .dataframe thead th {\n",
       "        text-align: right;\n",
       "    }\n",
       "</style>\n",
       "<table border=\"1\" class=\"dataframe\">\n",
       "  <thead>\n",
       "    <tr style=\"text-align: right;\">\n",
       "      <th></th>\n",
       "      <th>invoice number</th>\n",
       "      <th>transaction date</th>\n",
       "      <th>cost</th>\n",
       "      <th>gal</th>\n",
       "      <th>Environmental Compliance Fee</th>\n",
       "      <th>cost per gal</th>\n",
       "    </tr>\n",
       "  </thead>\n",
       "  <tbody>\n",
       "    <tr>\n",
       "      <th>2</th>\n",
       "      <td>676952.0</td>\n",
       "      <td>2020-10-02</td>\n",
       "      <td>117.04</td>\n",
       "      <td>55.3</td>\n",
       "      <td>6.99</td>\n",
       "      <td>1.99</td>\n",
       "    </tr>\n",
       "    <tr>\n",
       "      <th>3</th>\n",
       "      <td>681181.0</td>\n",
       "      <td>2020-11-25</td>\n",
       "      <td>320.20</td>\n",
       "      <td>103.5</td>\n",
       "      <td>6.99</td>\n",
       "      <td>NaN</td>\n",
       "    </tr>\n",
       "    <tr>\n",
       "      <th>4</th>\n",
       "      <td>685620.0</td>\n",
       "      <td>2020-12-26</td>\n",
       "      <td>205.99</td>\n",
       "      <td>100.0</td>\n",
       "      <td>6.99</td>\n",
       "      <td>1.99</td>\n",
       "    </tr>\n",
       "    <tr>\n",
       "      <th>5</th>\n",
       "      <td>688270.0</td>\n",
       "      <td>2021-01-20</td>\n",
       "      <td>224.70</td>\n",
       "      <td>109.4</td>\n",
       "      <td>6.99</td>\n",
       "      <td>1.99</td>\n",
       "    </tr>\n",
       "    <tr>\n",
       "      <th>6</th>\n",
       "      <td>692265.0</td>\n",
       "      <td>2021-02-17</td>\n",
       "      <td>205.99</td>\n",
       "      <td>100.0</td>\n",
       "      <td>6.99</td>\n",
       "      <td>1.99</td>\n",
       "    </tr>\n",
       "  </tbody>\n",
       "</table>\n",
       "</div>"
      ],
      "text/plain": [
       "   invoice number transaction date    cost    gal  \\\n",
       "2        676952.0       2020-10-02  117.04   55.3   \n",
       "3        681181.0       2020-11-25  320.20  103.5   \n",
       "4        685620.0       2020-12-26  205.99  100.0   \n",
       "5        688270.0       2021-01-20  224.70  109.4   \n",
       "6        692265.0       2021-02-17  205.99  100.0   \n",
       "\n",
       "   Environmental Compliance Fee  cost per gal  \n",
       "2                          6.99          1.99  \n",
       "3                          6.99           NaN  \n",
       "4                          6.99          1.99  \n",
       "5                          6.99          1.99  \n",
       "6                          6.99          1.99  "
      ]
     },
     "execution_count": 421,
     "metadata": {},
     "output_type": "execute_result"
    }
   ],
   "source": [
    "# drop the nan rows and redefine the dataframe\n",
    "\n",
    "propane_df = propane_df.drop([0,1])\n",
    "propane_df.head()"
   ]
  },
  {
   "cell_type": "code",
   "execution_count": 422,
   "metadata": {},
   "outputs": [
    {
     "data": {
      "text/html": [
       "<div>\n",
       "<style scoped>\n",
       "    .dataframe tbody tr th:only-of-type {\n",
       "        vertical-align: middle;\n",
       "    }\n",
       "\n",
       "    .dataframe tbody tr th {\n",
       "        vertical-align: top;\n",
       "    }\n",
       "\n",
       "    .dataframe thead th {\n",
       "        text-align: right;\n",
       "    }\n",
       "</style>\n",
       "<table border=\"1\" class=\"dataframe\">\n",
       "  <thead>\n",
       "    <tr style=\"text-align: right;\">\n",
       "      <th></th>\n",
       "      <th>invoice</th>\n",
       "      <th>date</th>\n",
       "      <th>cost</th>\n",
       "      <th>gal</th>\n",
       "      <th>Environmental Compliance Fee</th>\n",
       "      <th>cost per gal</th>\n",
       "    </tr>\n",
       "  </thead>\n",
       "  <tbody>\n",
       "    <tr>\n",
       "      <th>2</th>\n",
       "      <td>676952.0</td>\n",
       "      <td>2020-10-02</td>\n",
       "      <td>117.04</td>\n",
       "      <td>55.3</td>\n",
       "      <td>6.99</td>\n",
       "      <td>1.99</td>\n",
       "    </tr>\n",
       "  </tbody>\n",
       "</table>\n",
       "</div>"
      ],
      "text/plain": [
       "    invoice       date    cost   gal  Environmental Compliance Fee  \\\n",
       "2  676952.0 2020-10-02  117.04  55.3                          6.99   \n",
       "\n",
       "   cost per gal  \n",
       "2          1.99  "
      ]
     },
     "execution_count": 422,
     "metadata": {},
     "output_type": "execute_result"
    }
   ],
   "source": [
    "# rename columns\n",
    "\n",
    "propane_df.rename(columns = {'transaction date':'date','invoice number':'invoice'}, inplace = True)\n",
    "propane_df.head(1)"
   ]
  },
  {
   "cell_type": "code",
   "execution_count": 423,
   "metadata": {},
   "outputs": [],
   "source": [
    "# convert transaction date to timestamp\n",
    "\n",
    "propane_df['date'] = pd.to_datetime(propane_df['date'])"
   ]
  },
  {
   "cell_type": "code",
   "execution_count": 424,
   "metadata": {},
   "outputs": [
    {
     "data": {
      "text/html": [
       "<div>\n",
       "<style scoped>\n",
       "    .dataframe tbody tr th:only-of-type {\n",
       "        vertical-align: middle;\n",
       "    }\n",
       "\n",
       "    .dataframe tbody tr th {\n",
       "        vertical-align: top;\n",
       "    }\n",
       "\n",
       "    .dataframe thead th {\n",
       "        text-align: right;\n",
       "    }\n",
       "</style>\n",
       "<table border=\"1\" class=\"dataframe\">\n",
       "  <thead>\n",
       "    <tr style=\"text-align: right;\">\n",
       "      <th></th>\n",
       "      <th>invoice</th>\n",
       "      <th>date</th>\n",
       "      <th>cost</th>\n",
       "      <th>gal</th>\n",
       "      <th>Environmental Compliance Fee</th>\n",
       "      <th>cost per gal</th>\n",
       "    </tr>\n",
       "  </thead>\n",
       "  <tbody>\n",
       "    <tr>\n",
       "      <th>0</th>\n",
       "      <td>676952.0</td>\n",
       "      <td>2020-10-02</td>\n",
       "      <td>117.04</td>\n",
       "      <td>55.3</td>\n",
       "      <td>6.99</td>\n",
       "      <td>1.99</td>\n",
       "    </tr>\n",
       "  </tbody>\n",
       "</table>\n",
       "</div>"
      ],
      "text/plain": [
       "    invoice       date    cost   gal  Environmental Compliance Fee  \\\n",
       "0  676952.0 2020-10-02  117.04  55.3                          6.99   \n",
       "\n",
       "   cost per gal  \n",
       "0          1.99  "
      ]
     },
     "execution_count": 424,
     "metadata": {},
     "output_type": "execute_result"
    }
   ],
   "source": [
    "# reset index \n",
    "\n",
    "propane_df.reset_index(drop=True, inplace = True)\n",
    "propane_df.head(1)"
   ]
  },
  {
   "cell_type": "code",
   "execution_count": 425,
   "metadata": {},
   "outputs": [
    {
     "data": {
      "text/plain": [
       "Timestamp('2020-12-26 00:00:00')"
      ]
     },
     "execution_count": 425,
     "metadata": {},
     "output_type": "execute_result"
    }
   ],
   "source": [
    "propane_df['date'][2]"
   ]
  },
  {
   "cell_type": "code",
   "execution_count": 426,
   "metadata": {},
   "outputs": [
    {
     "data": {
      "text/html": [
       "<div>\n",
       "<style scoped>\n",
       "    .dataframe tbody tr th:only-of-type {\n",
       "        vertical-align: middle;\n",
       "    }\n",
       "\n",
       "    .dataframe tbody tr th {\n",
       "        vertical-align: top;\n",
       "    }\n",
       "\n",
       "    .dataframe thead th {\n",
       "        text-align: right;\n",
       "    }\n",
       "</style>\n",
       "<table border=\"1\" class=\"dataframe\">\n",
       "  <thead>\n",
       "    <tr style=\"text-align: right;\">\n",
       "      <th></th>\n",
       "      <th>invoice</th>\n",
       "      <th>date</th>\n",
       "      <th>cost</th>\n",
       "      <th>gal</th>\n",
       "      <th>Environmental Compliance Fee</th>\n",
       "      <th>cost per gal</th>\n",
       "    </tr>\n",
       "  </thead>\n",
       "  <tbody>\n",
       "    <tr>\n",
       "      <th>0</th>\n",
       "      <td>676952.0</td>\n",
       "      <td>2020-10-02</td>\n",
       "      <td>117.04</td>\n",
       "      <td>55.3</td>\n",
       "      <td>6.99</td>\n",
       "      <td>1.99</td>\n",
       "    </tr>\n",
       "    <tr>\n",
       "      <th>1</th>\n",
       "      <td>681181.0</td>\n",
       "      <td>2020-11-25</td>\n",
       "      <td>320.20</td>\n",
       "      <td>103.5</td>\n",
       "      <td>6.99</td>\n",
       "      <td>NaN</td>\n",
       "    </tr>\n",
       "    <tr>\n",
       "      <th>2</th>\n",
       "      <td>685620.0</td>\n",
       "      <td>2020-12-26</td>\n",
       "      <td>205.99</td>\n",
       "      <td>100.0</td>\n",
       "      <td>6.99</td>\n",
       "      <td>1.99</td>\n",
       "    </tr>\n",
       "    <tr>\n",
       "      <th>3</th>\n",
       "      <td>688270.0</td>\n",
       "      <td>2021-01-20</td>\n",
       "      <td>224.70</td>\n",
       "      <td>109.4</td>\n",
       "      <td>6.99</td>\n",
       "      <td>1.99</td>\n",
       "    </tr>\n",
       "    <tr>\n",
       "      <th>4</th>\n",
       "      <td>692265.0</td>\n",
       "      <td>2021-02-17</td>\n",
       "      <td>205.99</td>\n",
       "      <td>100.0</td>\n",
       "      <td>6.99</td>\n",
       "      <td>1.99</td>\n",
       "    </tr>\n",
       "  </tbody>\n",
       "</table>\n",
       "</div>"
      ],
      "text/plain": [
       "    invoice       date    cost    gal  Environmental Compliance Fee  \\\n",
       "0  676952.0 2020-10-02  117.04   55.3                          6.99   \n",
       "1  681181.0 2020-11-25  320.20  103.5                          6.99   \n",
       "2  685620.0 2020-12-26  205.99  100.0                          6.99   \n",
       "3  688270.0 2021-01-20  224.70  109.4                          6.99   \n",
       "4  692265.0 2021-02-17  205.99  100.0                          6.99   \n",
       "\n",
       "   cost per gal  \n",
       "0          1.99  \n",
       "1           NaN  \n",
       "2          1.99  \n",
       "3          1.99  \n",
       "4          1.99  "
      ]
     },
     "execution_count": 426,
     "metadata": {},
     "output_type": "execute_result"
    }
   ],
   "source": [
    "propane_df"
   ]
  },
  {
   "cell_type": "code",
   "execution_count": 427,
   "metadata": {},
   "outputs": [
    {
     "name": "stderr",
     "output_type": "stream",
     "text": [
      "<ipython-input-427-26a5edec99c9>:3: SettingWithCopyWarning: \n",
      "A value is trying to be set on a copy of a slice from a DataFrame\n",
      "\n",
      "See the caveats in the documentation: https://pandas.pydata.org/pandas-docs/stable/user_guide/indexing.html#returning-a-view-versus-a-copy\n",
      "  propane_df['cost per gal'][1] = round((320.20 / 103.5),2)\n"
     ]
    }
   ],
   "source": [
    "# fill in NaN through calculation \n",
    "\n",
    "propane_df['cost per gal'][1] = round((320.20 / 103.5),2)"
   ]
  },
  {
   "cell_type": "code",
   "execution_count": 428,
   "metadata": {},
   "outputs": [
    {
     "data": {
      "text/html": [
       "<div>\n",
       "<style scoped>\n",
       "    .dataframe tbody tr th:only-of-type {\n",
       "        vertical-align: middle;\n",
       "    }\n",
       "\n",
       "    .dataframe tbody tr th {\n",
       "        vertical-align: top;\n",
       "    }\n",
       "\n",
       "    .dataframe thead th {\n",
       "        text-align: right;\n",
       "    }\n",
       "</style>\n",
       "<table border=\"1\" class=\"dataframe\">\n",
       "  <thead>\n",
       "    <tr style=\"text-align: right;\">\n",
       "      <th></th>\n",
       "      <th>invoice</th>\n",
       "      <th>date</th>\n",
       "      <th>cost</th>\n",
       "      <th>gal</th>\n",
       "      <th>Environmental Compliance Fee</th>\n",
       "      <th>cost per gal</th>\n",
       "    </tr>\n",
       "  </thead>\n",
       "  <tbody>\n",
       "    <tr>\n",
       "      <th>0</th>\n",
       "      <td>676952.0</td>\n",
       "      <td>2020-10-02</td>\n",
       "      <td>117.04</td>\n",
       "      <td>55.3</td>\n",
       "      <td>6.99</td>\n",
       "      <td>1.99</td>\n",
       "    </tr>\n",
       "    <tr>\n",
       "      <th>1</th>\n",
       "      <td>681181.0</td>\n",
       "      <td>2020-11-25</td>\n",
       "      <td>320.20</td>\n",
       "      <td>103.5</td>\n",
       "      <td>6.99</td>\n",
       "      <td>3.09</td>\n",
       "    </tr>\n",
       "    <tr>\n",
       "      <th>2</th>\n",
       "      <td>685620.0</td>\n",
       "      <td>2020-12-26</td>\n",
       "      <td>205.99</td>\n",
       "      <td>100.0</td>\n",
       "      <td>6.99</td>\n",
       "      <td>1.99</td>\n",
       "    </tr>\n",
       "    <tr>\n",
       "      <th>3</th>\n",
       "      <td>688270.0</td>\n",
       "      <td>2021-01-20</td>\n",
       "      <td>224.70</td>\n",
       "      <td>109.4</td>\n",
       "      <td>6.99</td>\n",
       "      <td>1.99</td>\n",
       "    </tr>\n",
       "    <tr>\n",
       "      <th>4</th>\n",
       "      <td>692265.0</td>\n",
       "      <td>2021-02-17</td>\n",
       "      <td>205.99</td>\n",
       "      <td>100.0</td>\n",
       "      <td>6.99</td>\n",
       "      <td>1.99</td>\n",
       "    </tr>\n",
       "  </tbody>\n",
       "</table>\n",
       "</div>"
      ],
      "text/plain": [
       "    invoice       date    cost    gal  Environmental Compliance Fee  \\\n",
       "0  676952.0 2020-10-02  117.04   55.3                          6.99   \n",
       "1  681181.0 2020-11-25  320.20  103.5                          6.99   \n",
       "2  685620.0 2020-12-26  205.99  100.0                          6.99   \n",
       "3  688270.0 2021-01-20  224.70  109.4                          6.99   \n",
       "4  692265.0 2021-02-17  205.99  100.0                          6.99   \n",
       "\n",
       "   cost per gal  \n",
       "0          1.99  \n",
       "1          3.09  \n",
       "2          1.99  \n",
       "3          1.99  \n",
       "4          1.99  "
      ]
     },
     "execution_count": 428,
     "metadata": {},
     "output_type": "execute_result"
    }
   ],
   "source": [
    "propane_df"
   ]
  },
  {
   "cell_type": "markdown",
   "metadata": {},
   "source": [
    "--- done"
   ]
  },
  {
   "cell_type": "code",
   "execution_count": null,
   "metadata": {},
   "outputs": [],
   "source": []
  },
  {
   "cell_type": "code",
   "execution_count": null,
   "metadata": {},
   "outputs": [],
   "source": []
  },
  {
   "cell_type": "markdown",
   "metadata": {},
   "source": [
    "## Temperature Data"
   ]
  },
  {
   "cell_type": "code",
   "execution_count": 429,
   "metadata": {},
   "outputs": [
    {
     "data": {
      "text/html": [
       "<div>\n",
       "<style scoped>\n",
       "    .dataframe tbody tr th:only-of-type {\n",
       "        vertical-align: middle;\n",
       "    }\n",
       "\n",
       "    .dataframe tbody tr th {\n",
       "        vertical-align: top;\n",
       "    }\n",
       "\n",
       "    .dataframe thead th {\n",
       "        text-align: right;\n",
       "    }\n",
       "</style>\n",
       "<table border=\"1\" class=\"dataframe\">\n",
       "  <thead>\n",
       "    <tr style=\"text-align: right;\">\n",
       "      <th></th>\n",
       "      <th>LAT</th>\n",
       "      <th>LON</th>\n",
       "      <th>YEAR</th>\n",
       "      <th>MO</th>\n",
       "      <th>DY</th>\n",
       "      <th>T2M_RANGE</th>\n",
       "      <th>TS</th>\n",
       "      <th>T2MDEW</th>\n",
       "      <th>T2MWET</th>\n",
       "      <th>T2M_MAX</th>\n",
       "      <th>T2M_MIN</th>\n",
       "      <th>T2M</th>\n",
       "    </tr>\n",
       "  </thead>\n",
       "  <tbody>\n",
       "    <tr>\n",
       "      <th>0</th>\n",
       "      <td>41.77451</td>\n",
       "      <td>-74.27729</td>\n",
       "      <td>2020</td>\n",
       "      <td>8</td>\n",
       "      <td>1</td>\n",
       "      <td>14.37</td>\n",
       "      <td>24.58</td>\n",
       "      <td>15.59</td>\n",
       "      <td>15.42</td>\n",
       "      <td>31.20</td>\n",
       "      <td>16.83</td>\n",
       "      <td>24.66</td>\n",
       "    </tr>\n",
       "    <tr>\n",
       "      <th>1</th>\n",
       "      <td>41.77451</td>\n",
       "      <td>-74.27729</td>\n",
       "      <td>2020</td>\n",
       "      <td>8</td>\n",
       "      <td>2</td>\n",
       "      <td>8.73</td>\n",
       "      <td>24.33</td>\n",
       "      <td>20.65</td>\n",
       "      <td>20.57</td>\n",
       "      <td>28.83</td>\n",
       "      <td>20.11</td>\n",
       "      <td>24.30</td>\n",
       "    </tr>\n",
       "    <tr>\n",
       "      <th>2</th>\n",
       "      <td>41.77451</td>\n",
       "      <td>-74.27729</td>\n",
       "      <td>2020</td>\n",
       "      <td>8</td>\n",
       "      <td>3</td>\n",
       "      <td>10.66</td>\n",
       "      <td>24.39</td>\n",
       "      <td>16.23</td>\n",
       "      <td>16.03</td>\n",
       "      <td>30.16</td>\n",
       "      <td>19.50</td>\n",
       "      <td>24.56</td>\n",
       "    </tr>\n",
       "    <tr>\n",
       "      <th>3</th>\n",
       "      <td>41.77451</td>\n",
       "      <td>-74.27729</td>\n",
       "      <td>2020</td>\n",
       "      <td>8</td>\n",
       "      <td>4</td>\n",
       "      <td>5.20</td>\n",
       "      <td>21.13</td>\n",
       "      <td>20.19</td>\n",
       "      <td>20.17</td>\n",
       "      <td>23.65</td>\n",
       "      <td>18.45</td>\n",
       "      <td>21.14</td>\n",
       "    </tr>\n",
       "    <tr>\n",
       "      <th>4</th>\n",
       "      <td>41.77451</td>\n",
       "      <td>-74.27729</td>\n",
       "      <td>2020</td>\n",
       "      <td>8</td>\n",
       "      <td>5</td>\n",
       "      <td>10.10</td>\n",
       "      <td>20.91</td>\n",
       "      <td>16.51</td>\n",
       "      <td>16.40</td>\n",
       "      <td>26.28</td>\n",
       "      <td>16.19</td>\n",
       "      <td>21.01</td>\n",
       "    </tr>\n",
       "  </tbody>\n",
       "</table>\n",
       "</div>"
      ],
      "text/plain": [
       "        LAT       LON  YEAR  MO  DY  T2M_RANGE     TS  T2MDEW  T2MWET  \\\n",
       "0  41.77451 -74.27729  2020   8   1      14.37  24.58   15.59   15.42   \n",
       "1  41.77451 -74.27729  2020   8   2       8.73  24.33   20.65   20.57   \n",
       "2  41.77451 -74.27729  2020   8   3      10.66  24.39   16.23   16.03   \n",
       "3  41.77451 -74.27729  2020   8   4       5.20  21.13   20.19   20.17   \n",
       "4  41.77451 -74.27729  2020   8   5      10.10  20.91   16.51   16.40   \n",
       "\n",
       "   T2M_MAX  T2M_MIN    T2M  \n",
       "0    31.20    16.83  24.66  \n",
       "1    28.83    20.11  24.30  \n",
       "2    30.16    19.50  24.56  \n",
       "3    23.65    18.45  21.14  \n",
       "4    26.28    16.19  21.01  "
      ]
     },
     "execution_count": 429,
     "metadata": {},
     "output_type": "execute_result"
    }
   ],
   "source": [
    "temp_df.head()"
   ]
  },
  {
   "cell_type": "code",
   "execution_count": 430,
   "metadata": {},
   "outputs": [],
   "source": [
    "# creating datatime from multiply columns\n",
    "#  pandas 18 pd.to_datetime(df[['year', 'month', 'day']]) columns have to be that name\n",
    "\n",
    "temp_df['DATE'] = pd.to_datetime((temp_df.YEAR*10000+temp_df.MO*100+temp_df.DY).apply(str),format='%Y%m%d')"
   ]
  },
  {
   "cell_type": "code",
   "execution_count": 431,
   "metadata": {},
   "outputs": [],
   "source": [
    "# Remove old date columns\n",
    "\n",
    "temp_df.drop(['YEAR','MO','DY'], axis = 1, inplace = True)"
   ]
  },
  {
   "cell_type": "code",
   "execution_count": 432,
   "metadata": {},
   "outputs": [],
   "source": [
    "# set datetime to index\n",
    "\n",
    "#temp_df.set_index('DATE', inplace = True)\n"
   ]
  },
  {
   "cell_type": "code",
   "execution_count": 433,
   "metadata": {},
   "outputs": [
    {
     "data": {
      "text/html": [
       "<div>\n",
       "<style scoped>\n",
       "    .dataframe tbody tr th:only-of-type {\n",
       "        vertical-align: middle;\n",
       "    }\n",
       "\n",
       "    .dataframe tbody tr th {\n",
       "        vertical-align: top;\n",
       "    }\n",
       "\n",
       "    .dataframe thead th {\n",
       "        text-align: right;\n",
       "    }\n",
       "</style>\n",
       "<table border=\"1\" class=\"dataframe\">\n",
       "  <thead>\n",
       "    <tr style=\"text-align: right;\">\n",
       "      <th></th>\n",
       "      <th>LAT</th>\n",
       "      <th>LON</th>\n",
       "      <th>T2M_RANGE</th>\n",
       "      <th>TS</th>\n",
       "      <th>T2MDEW</th>\n",
       "      <th>T2MWET</th>\n",
       "      <th>T2M_MAX</th>\n",
       "      <th>T2M_MIN</th>\n",
       "      <th>T2M</th>\n",
       "      <th>DATE</th>\n",
       "    </tr>\n",
       "  </thead>\n",
       "  <tbody>\n",
       "    <tr>\n",
       "      <th>0</th>\n",
       "      <td>41.77451</td>\n",
       "      <td>-74.27729</td>\n",
       "      <td>14.37</td>\n",
       "      <td>24.58</td>\n",
       "      <td>15.59</td>\n",
       "      <td>15.42</td>\n",
       "      <td>31.20</td>\n",
       "      <td>16.83</td>\n",
       "      <td>24.66</td>\n",
       "      <td>2020-08-01</td>\n",
       "    </tr>\n",
       "    <tr>\n",
       "      <th>1</th>\n",
       "      <td>41.77451</td>\n",
       "      <td>-74.27729</td>\n",
       "      <td>8.73</td>\n",
       "      <td>24.33</td>\n",
       "      <td>20.65</td>\n",
       "      <td>20.57</td>\n",
       "      <td>28.83</td>\n",
       "      <td>20.11</td>\n",
       "      <td>24.30</td>\n",
       "      <td>2020-08-02</td>\n",
       "    </tr>\n",
       "  </tbody>\n",
       "</table>\n",
       "</div>"
      ],
      "text/plain": [
       "        LAT       LON  T2M_RANGE     TS  T2MDEW  T2MWET  T2M_MAX  T2M_MIN  \\\n",
       "0  41.77451 -74.27729      14.37  24.58   15.59   15.42    31.20    16.83   \n",
       "1  41.77451 -74.27729       8.73  24.33   20.65   20.57    28.83    20.11   \n",
       "\n",
       "     T2M       DATE  \n",
       "0  24.66 2020-08-01  \n",
       "1  24.30 2020-08-02  "
      ]
     },
     "execution_count": 433,
     "metadata": {},
     "output_type": "execute_result"
    }
   ],
   "source": [
    "temp_df.head(2)"
   ]
  },
  {
   "cell_type": "code",
   "execution_count": 434,
   "metadata": {},
   "outputs": [
    {
     "data": {
      "text/html": [
       "<div>\n",
       "<style scoped>\n",
       "    .dataframe tbody tr th:only-of-type {\n",
       "        vertical-align: middle;\n",
       "    }\n",
       "\n",
       "    .dataframe tbody tr th {\n",
       "        vertical-align: top;\n",
       "    }\n",
       "\n",
       "    .dataframe thead th {\n",
       "        text-align: right;\n",
       "    }\n",
       "</style>\n",
       "<table border=\"1\" class=\"dataframe\">\n",
       "  <thead>\n",
       "    <tr style=\"text-align: right;\">\n",
       "      <th></th>\n",
       "      <th>LAT</th>\n",
       "      <th>LON</th>\n",
       "      <th>T2M_RANGE</th>\n",
       "      <th>TS</th>\n",
       "      <th>T2MDEW</th>\n",
       "      <th>T2MWET</th>\n",
       "      <th>T2M_MAX</th>\n",
       "      <th>T2M_MIN</th>\n",
       "      <th>T2M</th>\n",
       "      <th>DATE</th>\n",
       "    </tr>\n",
       "  </thead>\n",
       "  <tbody>\n",
       "    <tr>\n",
       "      <th>206</th>\n",
       "      <td>41.77451</td>\n",
       "      <td>-74.27729</td>\n",
       "      <td>6.09</td>\n",
       "      <td>-1.61</td>\n",
       "      <td>-1.76</td>\n",
       "      <td>-1.62</td>\n",
       "      <td>0.36</td>\n",
       "      <td>-5.72</td>\n",
       "      <td>-1.49</td>\n",
       "      <td>2021-02-23</td>\n",
       "    </tr>\n",
       "    <tr>\n",
       "      <th>207</th>\n",
       "      <td>41.77451</td>\n",
       "      <td>-74.27729</td>\n",
       "      <td>-999.00</td>\n",
       "      <td>-999.00</td>\n",
       "      <td>-999.00</td>\n",
       "      <td>-999.00</td>\n",
       "      <td>-999.00</td>\n",
       "      <td>-999.00</td>\n",
       "      <td>-999.00</td>\n",
       "      <td>2021-02-24</td>\n",
       "    </tr>\n",
       "    <tr>\n",
       "      <th>208</th>\n",
       "      <td>41.77451</td>\n",
       "      <td>-74.27729</td>\n",
       "      <td>-999.00</td>\n",
       "      <td>-999.00</td>\n",
       "      <td>-999.00</td>\n",
       "      <td>-999.00</td>\n",
       "      <td>-999.00</td>\n",
       "      <td>-999.00</td>\n",
       "      <td>-999.00</td>\n",
       "      <td>2021-02-25</td>\n",
       "    </tr>\n",
       "  </tbody>\n",
       "</table>\n",
       "</div>"
      ],
      "text/plain": [
       "          LAT       LON  T2M_RANGE      TS  T2MDEW  T2MWET  T2M_MAX  T2M_MIN  \\\n",
       "206  41.77451 -74.27729       6.09   -1.61   -1.76   -1.62     0.36    -5.72   \n",
       "207  41.77451 -74.27729    -999.00 -999.00 -999.00 -999.00  -999.00  -999.00   \n",
       "208  41.77451 -74.27729    -999.00 -999.00 -999.00 -999.00  -999.00  -999.00   \n",
       "\n",
       "        T2M       DATE  \n",
       "206   -1.49 2021-02-23  \n",
       "207 -999.00 2021-02-24  \n",
       "208 -999.00 2021-02-25  "
      ]
     },
     "execution_count": 434,
     "metadata": {},
     "output_type": "execute_result"
    }
   ],
   "source": [
    "temp_df.tail(3)"
   ]
  },
  {
   "cell_type": "markdown",
   "metadata": {},
   "source": [
    "Row 207 & 208 have incorrect data and need to be dropped"
   ]
  },
  {
   "cell_type": "code",
   "execution_count": 435,
   "metadata": {},
   "outputs": [],
   "source": [
    "# Drop row 207 & 208\n",
    "\n",
    "temp_df.drop([207,208], axis = 0, inplace = True)"
   ]
  },
  {
   "cell_type": "code",
   "execution_count": null,
   "metadata": {},
   "outputs": [],
   "source": []
  },
  {
   "cell_type": "code",
   "execution_count": 436,
   "metadata": {},
   "outputs": [],
   "source": [
    "# converts C to F \n",
    "\n",
    "# lambda function C to F\n",
    "c_to_f = lambda x : (x * 9/5) + 32 \n",
    "# apply lambda to TS & T2M\n",
    "temp_df['TS'] = c_to_f(temp_df['TS'])\n",
    "temp_df['T2M'] = c_to_f(temp_df['T2M'])"
   ]
  },
  {
   "cell_type": "code",
   "execution_count": 437,
   "metadata": {},
   "outputs": [
    {
     "data": {
      "text/html": [
       "<div>\n",
       "<style scoped>\n",
       "    .dataframe tbody tr th:only-of-type {\n",
       "        vertical-align: middle;\n",
       "    }\n",
       "\n",
       "    .dataframe tbody tr th {\n",
       "        vertical-align: top;\n",
       "    }\n",
       "\n",
       "    .dataframe thead th {\n",
       "        text-align: right;\n",
       "    }\n",
       "</style>\n",
       "<table border=\"1\" class=\"dataframe\">\n",
       "  <thead>\n",
       "    <tr style=\"text-align: right;\">\n",
       "      <th></th>\n",
       "      <th>LAT</th>\n",
       "      <th>LON</th>\n",
       "      <th>T2M_RANGE</th>\n",
       "      <th>TS</th>\n",
       "      <th>T2MDEW</th>\n",
       "      <th>T2MWET</th>\n",
       "      <th>T2M_MAX</th>\n",
       "      <th>T2M_MIN</th>\n",
       "      <th>T2M</th>\n",
       "      <th>DATE</th>\n",
       "    </tr>\n",
       "  </thead>\n",
       "  <tbody>\n",
       "    <tr>\n",
       "      <th>0</th>\n",
       "      <td>41.77451</td>\n",
       "      <td>-74.27729</td>\n",
       "      <td>14.37</td>\n",
       "      <td>76.244</td>\n",
       "      <td>15.59</td>\n",
       "      <td>15.42</td>\n",
       "      <td>31.20</td>\n",
       "      <td>16.83</td>\n",
       "      <td>76.388</td>\n",
       "      <td>2020-08-01</td>\n",
       "    </tr>\n",
       "    <tr>\n",
       "      <th>1</th>\n",
       "      <td>41.77451</td>\n",
       "      <td>-74.27729</td>\n",
       "      <td>8.73</td>\n",
       "      <td>75.794</td>\n",
       "      <td>20.65</td>\n",
       "      <td>20.57</td>\n",
       "      <td>28.83</td>\n",
       "      <td>20.11</td>\n",
       "      <td>75.740</td>\n",
       "      <td>2020-08-02</td>\n",
       "    </tr>\n",
       "  </tbody>\n",
       "</table>\n",
       "</div>"
      ],
      "text/plain": [
       "        LAT       LON  T2M_RANGE      TS  T2MDEW  T2MWET  T2M_MAX  T2M_MIN  \\\n",
       "0  41.77451 -74.27729      14.37  76.244   15.59   15.42    31.20    16.83   \n",
       "1  41.77451 -74.27729       8.73  75.794   20.65   20.57    28.83    20.11   \n",
       "\n",
       "      T2M       DATE  \n",
       "0  76.388 2020-08-01  \n",
       "1  75.740 2020-08-02  "
      ]
     },
     "execution_count": 437,
     "metadata": {},
     "output_type": "execute_result"
    }
   ],
   "source": [
    "temp_df.head(2)"
   ]
  },
  {
   "cell_type": "code",
   "execution_count": 438,
   "metadata": {},
   "outputs": [],
   "source": [
    "# simplyfy dataset\n",
    "\n",
    "# creates a list of columns to drop\n",
    "column_name = temp_df.columns\n",
    "column_name = column_name.drop(['T2M','DATE','TS'])\n",
    "# drops columns\n",
    "temp_df.drop(column_name, inplace = True, axis = 1)\n",
    "# rename to lower case \n",
    "temp_df.columns = map(str.lower, temp_df.columns)"
   ]
  },
  {
   "cell_type": "code",
   "execution_count": 439,
   "metadata": {},
   "outputs": [],
   "source": [
    "# set datetime to index \n",
    "\n",
    "temp_df.set_index('date', inplace = True)"
   ]
  },
  {
   "cell_type": "code",
   "execution_count": 440,
   "metadata": {},
   "outputs": [
    {
     "data": {
      "text/plain": [
       "Timedelta('206 days 00:00:00')"
      ]
     },
     "execution_count": 440,
     "metadata": {},
     "output_type": "execute_result"
    }
   ],
   "source": [
    "# Timdelta, duration of data\n",
    "\n",
    "temp_df.index.max() - temp_df.index.min()"
   ]
  },
  {
   "cell_type": "code",
   "execution_count": null,
   "metadata": {},
   "outputs": [],
   "source": []
  },
  {
   "cell_type": "code",
   "execution_count": 441,
   "metadata": {},
   "outputs": [
    {
     "data": {
      "text/html": [
       "<div>\n",
       "<style scoped>\n",
       "    .dataframe tbody tr th:only-of-type {\n",
       "        vertical-align: middle;\n",
       "    }\n",
       "\n",
       "    .dataframe tbody tr th {\n",
       "        vertical-align: top;\n",
       "    }\n",
       "\n",
       "    .dataframe thead th {\n",
       "        text-align: right;\n",
       "    }\n",
       "</style>\n",
       "<table border=\"1\" class=\"dataframe\">\n",
       "  <thead>\n",
       "    <tr style=\"text-align: right;\">\n",
       "      <th></th>\n",
       "      <th>ts</th>\n",
       "      <th>t2m</th>\n",
       "    </tr>\n",
       "    <tr>\n",
       "      <th>date</th>\n",
       "      <th></th>\n",
       "      <th></th>\n",
       "    </tr>\n",
       "  </thead>\n",
       "  <tbody>\n",
       "    <tr>\n",
       "      <th>2020-08-01</th>\n",
       "      <td>76.244</td>\n",
       "      <td>76.388</td>\n",
       "    </tr>\n",
       "    <tr>\n",
       "      <th>2020-08-02</th>\n",
       "      <td>75.794</td>\n",
       "      <td>75.740</td>\n",
       "    </tr>\n",
       "    <tr>\n",
       "      <th>2020-08-03</th>\n",
       "      <td>75.902</td>\n",
       "      <td>76.208</td>\n",
       "    </tr>\n",
       "    <tr>\n",
       "      <th>2020-08-04</th>\n",
       "      <td>70.034</td>\n",
       "      <td>70.052</td>\n",
       "    </tr>\n",
       "    <tr>\n",
       "      <th>2020-08-05</th>\n",
       "      <td>69.638</td>\n",
       "      <td>69.818</td>\n",
       "    </tr>\n",
       "    <tr>\n",
       "      <th>...</th>\n",
       "      <td>...</td>\n",
       "      <td>...</td>\n",
       "    </tr>\n",
       "    <tr>\n",
       "      <th>2021-02-19</th>\n",
       "      <td>21.218</td>\n",
       "      <td>21.452</td>\n",
       "    </tr>\n",
       "    <tr>\n",
       "      <th>2021-02-20</th>\n",
       "      <td>19.166</td>\n",
       "      <td>19.310</td>\n",
       "    </tr>\n",
       "    <tr>\n",
       "      <th>2021-02-21</th>\n",
       "      <td>12.992</td>\n",
       "      <td>17.258</td>\n",
       "    </tr>\n",
       "    <tr>\n",
       "      <th>2021-02-22</th>\n",
       "      <td>23.846</td>\n",
       "      <td>23.972</td>\n",
       "    </tr>\n",
       "    <tr>\n",
       "      <th>2021-02-23</th>\n",
       "      <td>29.102</td>\n",
       "      <td>29.318</td>\n",
       "    </tr>\n",
       "  </tbody>\n",
       "</table>\n",
       "<p>207 rows × 2 columns</p>\n",
       "</div>"
      ],
      "text/plain": [
       "                ts     t2m\n",
       "date                      \n",
       "2020-08-01  76.244  76.388\n",
       "2020-08-02  75.794  75.740\n",
       "2020-08-03  75.902  76.208\n",
       "2020-08-04  70.034  70.052\n",
       "2020-08-05  69.638  69.818\n",
       "...            ...     ...\n",
       "2021-02-19  21.218  21.452\n",
       "2021-02-20  19.166  19.310\n",
       "2021-02-21  12.992  17.258\n",
       "2021-02-22  23.846  23.972\n",
       "2021-02-23  29.102  29.318\n",
       "\n",
       "[207 rows x 2 columns]"
      ]
     },
     "execution_count": 441,
     "metadata": {},
     "output_type": "execute_result"
    }
   ],
   "source": [
    "temp_df"
   ]
  },
  {
   "cell_type": "markdown",
   "metadata": {},
   "source": [
    "# EDA - Visualize\n",
    "<hr/>"
   ]
  },
  {
   "cell_type": "markdown",
   "metadata": {},
   "source": [
    "### Temperature Vis"
   ]
  },
  {
   "cell_type": "code",
   "execution_count": 442,
   "metadata": {},
   "outputs": [
    {
     "data": {
      "image/png": "[encoded data removed]",
      "text/plain": [
       "<Figure size 792x576 with 1 Axes>"
      ]
     },
     "metadata": {},
     "output_type": "display_data"
    }
   ],
   "source": [
    "# Temperature Vis\n",
    "\n",
    "plt.figure(figsize = (11,8))\n",
    "ax = sns.lineplot(data = temp_df, x = 'date',\n",
    "                             y = 't2m',\n",
    "                             color = 'green');\n",
    "\n",
    "# x & y labels\n",
    "plt.title('Temperature by Date', size = 20)\n",
    "plt.xlabel('Date (14 day interval)', size = 15)\n",
    "plt.ylabel('Temperature', size = 15)\n",
    "\n",
    "# add more date ticks\n",
    "ax.yaxis.set_major_locator(ticker.MultipleLocator(5))\n",
    "# add more temp ticks\n",
    "ax.xaxis.set_major_locator(ticker.MultipleLocator(14))\n",
    "    #ax.xaxis.set_major_formatter(ticker.ScalarFormatter())\n",
    "# rotate xticks\n",
    "plt.xticks(rotation = 45);\n",
    "\n",
    "\n",
    "\n",
    "# to save fig\n",
    "#plt.savefig()"
   ]
  },
  {
   "cell_type": "markdown",
   "metadata": {},
   "source": [
    "### Propane Vis"
   ]
  },
  {
   "cell_type": "code",
   "execution_count": 443,
   "metadata": {},
   "outputs": [
    {
     "data": {
      "text/html": [
       "<div>\n",
       "<style scoped>\n",
       "    .dataframe tbody tr th:only-of-type {\n",
       "        vertical-align: middle;\n",
       "    }\n",
       "\n",
       "    .dataframe tbody tr th {\n",
       "        vertical-align: top;\n",
       "    }\n",
       "\n",
       "    .dataframe thead th {\n",
       "        text-align: right;\n",
       "    }\n",
       "</style>\n",
       "<table border=\"1\" class=\"dataframe\">\n",
       "  <thead>\n",
       "    <tr style=\"text-align: right;\">\n",
       "      <th></th>\n",
       "      <th>invoice</th>\n",
       "      <th>date</th>\n",
       "      <th>cost</th>\n",
       "      <th>gal</th>\n",
       "      <th>Environmental Compliance Fee</th>\n",
       "      <th>cost per gal</th>\n",
       "    </tr>\n",
       "  </thead>\n",
       "  <tbody>\n",
       "    <tr>\n",
       "      <th>0</th>\n",
       "      <td>676952.0</td>\n",
       "      <td>2020-10-02</td>\n",
       "      <td>117.04</td>\n",
       "      <td>55.3</td>\n",
       "      <td>6.99</td>\n",
       "      <td>1.99</td>\n",
       "    </tr>\n",
       "    <tr>\n",
       "      <th>1</th>\n",
       "      <td>681181.0</td>\n",
       "      <td>2020-11-25</td>\n",
       "      <td>320.20</td>\n",
       "      <td>103.5</td>\n",
       "      <td>6.99</td>\n",
       "      <td>3.09</td>\n",
       "    </tr>\n",
       "    <tr>\n",
       "      <th>2</th>\n",
       "      <td>685620.0</td>\n",
       "      <td>2020-12-26</td>\n",
       "      <td>205.99</td>\n",
       "      <td>100.0</td>\n",
       "      <td>6.99</td>\n",
       "      <td>1.99</td>\n",
       "    </tr>\n",
       "    <tr>\n",
       "      <th>3</th>\n",
       "      <td>688270.0</td>\n",
       "      <td>2021-01-20</td>\n",
       "      <td>224.70</td>\n",
       "      <td>109.4</td>\n",
       "      <td>6.99</td>\n",
       "      <td>1.99</td>\n",
       "    </tr>\n",
       "    <tr>\n",
       "      <th>4</th>\n",
       "      <td>692265.0</td>\n",
       "      <td>2021-02-17</td>\n",
       "      <td>205.99</td>\n",
       "      <td>100.0</td>\n",
       "      <td>6.99</td>\n",
       "      <td>1.99</td>\n",
       "    </tr>\n",
       "  </tbody>\n",
       "</table>\n",
       "</div>"
      ],
      "text/plain": [
       "    invoice       date    cost    gal  Environmental Compliance Fee  \\\n",
       "0  676952.0 2020-10-02  117.04   55.3                          6.99   \n",
       "1  681181.0 2020-11-25  320.20  103.5                          6.99   \n",
       "2  685620.0 2020-12-26  205.99  100.0                          6.99   \n",
       "3  688270.0 2021-01-20  224.70  109.4                          6.99   \n",
       "4  692265.0 2021-02-17  205.99  100.0                          6.99   \n",
       "\n",
       "   cost per gal  \n",
       "0          1.99  \n",
       "1          3.09  \n",
       "2          1.99  \n",
       "3          1.99  \n",
       "4          1.99  "
      ]
     },
     "execution_count": 443,
     "metadata": {},
     "output_type": "execute_result"
    }
   ],
   "source": [
    "propane_df"
   ]
  },
  {
   "cell_type": "code",
   "execution_count": 444,
   "metadata": {},
   "outputs": [
    {
     "data": {
      "image/png": "[encoded data removed]",
      "text/plain": [
       "<Figure size 792x576 with 1 Axes>"
      ]
     },
     "metadata": {},
     "output_type": "display_data"
    }
   ],
   "source": [
    "# Propane Vis\n",
    "\n",
    "plt.figure(figsize = (11,8))\n",
    "ax = sns.lineplot(data = propane_df, x = 'date',\n",
    "                             y = 'gal',\n",
    "                             color = 'orange');\n",
    "\n",
    "\n",
    "\n",
    "# x & y labels\n",
    "plt.title('Propane refill (gal) by Date', size = 20)\n",
    "plt.xlabel('Date (14 day interval)', size = 15)\n",
    "plt.ylabel('Propane (Gal)', size = 15)\n",
    "\n",
    "# add more date ticks\n",
    "ax.yaxis.set_major_locator(ticker.MultipleLocator(5))\n",
    "# add more temp ticks\n",
    "ax.xaxis.set_major_locator(ticker.MultipleLocator(14))\n",
    "    #ax.xaxis.set_major_formatter(ticker.ScalarFormatter())\n",
    "# rotate xticks\n",
    "plt.xticks(rotation = 45);\n"
   ]
  },
  {
   "cell_type": "markdown",
   "metadata": {},
   "source": [
    "### Combined Vis"
   ]
  },
  {
   "cell_type": "code",
   "execution_count": 445,
   "metadata": {},
   "outputs": [
    {
     "data": {
      "image/png": "[encoded data removed]",
      "text/plain": [
       "<Figure size 936x648 with 1 Axes>"
      ]
     },
     "metadata": {},
     "output_type": "display_data"
    }
   ],
   "source": [
    "# Propane Vis\n",
    "\n",
    "plt.figure(figsize = (13,9))\n",
    "ax = sns.lineplot(data = propane_df, x = 'date',\n",
    "                             y = 'gal',\n",
    "                             color = 'green',\n",
    "                             label = 'Propane (gal)');\n",
    "\n",
    "ax = sns.lineplot(data = temp_df, x = 'date',\n",
    "                             y = 't2m',\n",
    "                             color = 'orange',\n",
    "                             label = 'Temperature (F)');\n",
    "\n",
    "# x & y labels\n",
    "plt.title('Outside Temperature and Propane usage', size = 20)\n",
    "plt.xlabel('Date (14 day interval)', size = 15)\n",
    "plt.ylabel('Propane (Gal)', size = 15)\n",
    "\n",
    "# add \n",
    "ax.legend()\n",
    "\n",
    "# add more date ticks\n",
    "ax.yaxis.set_major_locator(ticker.MultipleLocator(5))\n",
    "# add more temp ticks\n",
    "ax.xaxis.set_major_locator(ticker.MultipleLocator(14))\n",
    "    #ax.xaxis.set_major_formatter(ticker.ScalarFormatter())\n",
    "# rotate xticks\n",
    "plt.xticks(rotation = 45);\n"
   ]
  },
  {
   "cell_type": "markdown",
   "metadata": {},
   "source": [
    " "
   ]
  },
  {
   "cell_type": "markdown",
   "metadata": {},
   "source": [
    "# Combined DataFrames\n",
    "<hr/>"
   ]
  },
  {
   "cell_type": "code",
   "execution_count": 452,
   "metadata": {},
   "outputs": [
    {
     "data": {
      "text/html": [
       "<div>\n",
       "<style scoped>\n",
       "    .dataframe tbody tr th:only-of-type {\n",
       "        vertical-align: middle;\n",
       "    }\n",
       "\n",
       "    .dataframe tbody tr th {\n",
       "        vertical-align: top;\n",
       "    }\n",
       "\n",
       "    .dataframe thead th {\n",
       "        text-align: right;\n",
       "    }\n",
       "</style>\n",
       "<table border=\"1\" class=\"dataframe\">\n",
       "  <thead>\n",
       "    <tr style=\"text-align: right;\">\n",
       "      <th></th>\n",
       "      <th>date</th>\n",
       "      <th>gal</th>\n",
       "      <th>cost per gal</th>\n",
       "    </tr>\n",
       "  </thead>\n",
       "  <tbody>\n",
       "    <tr>\n",
       "      <th>0</th>\n",
       "      <td>2020-10-02</td>\n",
       "      <td>55.3</td>\n",
       "      <td>1.99</td>\n",
       "    </tr>\n",
       "    <tr>\n",
       "      <th>1</th>\n",
       "      <td>2020-11-25</td>\n",
       "      <td>103.5</td>\n",
       "      <td>3.09</td>\n",
       "    </tr>\n",
       "    <tr>\n",
       "      <th>2</th>\n",
       "      <td>2020-12-26</td>\n",
       "      <td>100.0</td>\n",
       "      <td>1.99</td>\n",
       "    </tr>\n",
       "    <tr>\n",
       "      <th>3</th>\n",
       "      <td>2021-01-20</td>\n",
       "      <td>109.4</td>\n",
       "      <td>1.99</td>\n",
       "    </tr>\n",
       "    <tr>\n",
       "      <th>4</th>\n",
       "      <td>2021-02-17</td>\n",
       "      <td>100.0</td>\n",
       "      <td>1.99</td>\n",
       "    </tr>\n",
       "  </tbody>\n",
       "</table>\n",
       "</div>"
      ],
      "text/plain": [
       "        date    gal  cost per gal\n",
       "0 2020-10-02   55.3          1.99\n",
       "1 2020-11-25  103.5          3.09\n",
       "2 2020-12-26  100.0          1.99\n",
       "3 2021-01-20  109.4          1.99\n",
       "4 2021-02-17  100.0          1.99"
      ]
     },
     "execution_count": 452,
     "metadata": {},
     "output_type": "execute_result"
    }
   ],
   "source": [
    "df = propane_df.drop(['invoice','cost','Environmental Compliance Fee',], axis = 1).copy()\n",
    "df"
   ]
  },
  {
   "cell_type": "code",
   "execution_count": 465,
   "metadata": {},
   "outputs": [],
   "source": [
    "# creates temperture mean for time period inbetween propaine_df dates"
   ]
  },
  {
   "cell_type": "code",
   "execution_count": 465,
   "metadata": {},
   "outputs": [
    {
     "data": {
      "text/plain": [
       "61.45"
      ]
     },
     "execution_count": 465,
     "metadata": {},
     "output_type": "execute_result"
    }
   ],
   "source": [
    "# initial temperature reading \n",
    "\n",
    "initial_temp_reading = round( temp_df.loc[ \n",
    "                            (df['date'][0] - pd.Timedelta(weeks=4)): (df['date'][0] - pd.Timedelta(days=1)) \n",
    "                        ]['ts'].mean(),2 )\n",
    "initial_temp_reading"
   ]
  },
  {
   "cell_type": "code",
   "execution_count": 515,
   "metadata": {},
   "outputs": [],
   "source": [
    "# \n",
    "avg_temp_list = [initial_temp_reading]\n",
    "n_days = [12]"
   ]
  },
  {
   "cell_type": "code",
   "execution_count": 519,
   "metadata": {},
   "outputs": [
    {
     "name": "stdout",
     "output_type": "stream",
     "text": [
      "number 0,  date 2020-10-02 00:00:00 to 2020-11-25 00:00:00 Temp Mean 46.916999999999994.\n",
      "\n",
      "number 1,  date 2020-11-25 00:00:00 to 2020-12-26 00:00:00 Temp Mean 32.05516129032258.\n",
      "\n",
      "number 2,  date 2020-12-26 00:00:00 to 2021-01-20 00:00:00 Temp Mean 26.78792.\n",
      "\n",
      "number 3,  date 2021-01-20 00:00:00 to 2021-02-17 00:00:00 Temp Mean 18.09435714285714.\n",
      "\n"
     ]
    }
   ],
   "source": [
    "# var for loop \n",
    "\n",
    "end_of_range = len( df['date'] ) -1\n",
    "for n in range(0, end_of_range  ):\n",
    "\n",
    "    if n_date >= 10:\n",
    "        break\n",
    "    \n",
    "    \n",
    "    # assigns start date \n",
    "    date_start = df['date'][n]\n",
    "    # assigns end date\n",
    "    date_end = df['date'][n + 1]\n",
    "    \n",
    "    \n",
    "    # n of days between [date_start to date_end]\n",
    "    n_days.append( int(str( date_end - date_start ).split(' ')[0]) )\n",
    "    \n",
    "    \n",
    "    # slices datetime and Calcualtes MEAN for 'ts'\n",
    "    avg_temp_list.append( round( temp_df.loc[ date_start: (date_end - pd.Timedelta(days=1)) ]['ts'].mean(),2 ) )\n",
    "    # print TEMP for debuging \n",
    "    temp = temp_df.loc[ date_start: (date_end - pd.Timedelta(days=1)) ]['ts'].mean()\n",
    "    print(f'number {n},  date {date_start} to {date_end} Temp Mean {temp}.')\n",
    "    print()\n",
    "    \n",
    "    \n",
    "    \n",
    "    "
   ]
  },
  {
   "cell_type": "code",
   "execution_count": 467,
   "metadata": {},
   "outputs": [
    {
     "data": {
      "text/plain": [
       "array([61.45, 46.92, 32.06, 26.79, 18.09, 46.92, 32.06, 26.79, 18.09])"
      ]
     },
     "execution_count": 467,
     "metadata": {},
     "output_type": "execute_result"
    }
   ],
   "source": [
    "# Examine avg_temp_list list\n",
    "\n",
    "np.array(avg_temp_list)"
   ]
  },
  {
   "cell_type": "code",
   "execution_count": 517,
   "metadata": {},
   "outputs": [
    {
     "data": {
      "text/html": [
       "<div>\n",
       "<style scoped>\n",
       "    .dataframe tbody tr th:only-of-type {\n",
       "        vertical-align: middle;\n",
       "    }\n",
       "\n",
       "    .dataframe tbody tr th {\n",
       "        vertical-align: top;\n",
       "    }\n",
       "\n",
       "    .dataframe thead th {\n",
       "        text-align: right;\n",
       "    }\n",
       "</style>\n",
       "<table border=\"1\" class=\"dataframe\">\n",
       "  <thead>\n",
       "    <tr style=\"text-align: right;\">\n",
       "      <th></th>\n",
       "      <th>date</th>\n",
       "      <th>gal</th>\n",
       "      <th>cost per gal</th>\n",
       "      <th>avg_temp</th>\n",
       "      <th>days</th>\n",
       "    </tr>\n",
       "  </thead>\n",
       "  <tbody>\n",
       "    <tr>\n",
       "      <th>0</th>\n",
       "      <td>2020-10-02</td>\n",
       "      <td>55.3</td>\n",
       "      <td>1.99</td>\n",
       "      <td>61.45</td>\n",
       "      <td>12</td>\n",
       "    </tr>\n",
       "    <tr>\n",
       "      <th>1</th>\n",
       "      <td>2020-11-25</td>\n",
       "      <td>103.5</td>\n",
       "      <td>3.09</td>\n",
       "      <td>46.92</td>\n",
       "      <td>54</td>\n",
       "    </tr>\n",
       "    <tr>\n",
       "      <th>2</th>\n",
       "      <td>2020-12-26</td>\n",
       "      <td>100.0</td>\n",
       "      <td>1.99</td>\n",
       "      <td>32.06</td>\n",
       "      <td>31</td>\n",
       "    </tr>\n",
       "    <tr>\n",
       "      <th>3</th>\n",
       "      <td>2021-01-20</td>\n",
       "      <td>109.4</td>\n",
       "      <td>1.99</td>\n",
       "      <td>26.79</td>\n",
       "      <td>25</td>\n",
       "    </tr>\n",
       "    <tr>\n",
       "      <th>4</th>\n",
       "      <td>2021-02-17</td>\n",
       "      <td>100.0</td>\n",
       "      <td>1.99</td>\n",
       "      <td>18.09</td>\n",
       "      <td>28</td>\n",
       "    </tr>\n",
       "  </tbody>\n",
       "</table>\n",
       "</div>"
      ],
      "text/plain": [
       "        date    gal  cost per gal  avg_temp  days\n",
       "0 2020-10-02   55.3          1.99     61.45    12\n",
       "1 2020-11-25  103.5          3.09     46.92    54\n",
       "2 2020-12-26  100.0          1.99     32.06    31\n",
       "3 2021-01-20  109.4          1.99     26.79    25\n",
       "4 2021-02-17  100.0          1.99     18.09    28"
      ]
     },
     "execution_count": 517,
     "metadata": {},
     "output_type": "execute_result"
    }
   ],
   "source": [
    "# join .mean columns\n",
    "\n",
    "df['avg_temp'] = np.array(temp_average)\n",
    "df['days'] = np.array(n_days)\n",
    "df"
   ]
  },
  {
   "cell_type": "markdown",
   "metadata": {},
   "source": [
    "# Write to csv"
   ]
  },
  {
   "cell_type": "code",
   "execution_count": 460,
   "metadata": {},
   "outputs": [
    {
     "data": {
      "text/html": [
       "<div>\n",
       "<style scoped>\n",
       "    .dataframe tbody tr th:only-of-type {\n",
       "        vertical-align: middle;\n",
       "    }\n",
       "\n",
       "    .dataframe tbody tr th {\n",
       "        vertical-align: top;\n",
       "    }\n",
       "\n",
       "    .dataframe thead th {\n",
       "        text-align: right;\n",
       "    }\n",
       "</style>\n",
       "<table border=\"1\" class=\"dataframe\">\n",
       "  <thead>\n",
       "    <tr style=\"text-align: right;\">\n",
       "      <th></th>\n",
       "      <th>date</th>\n",
       "      <th>gal</th>\n",
       "      <th>cost per gal</th>\n",
       "      <th>avg_temp</th>\n",
       "    </tr>\n",
       "  </thead>\n",
       "  <tbody>\n",
       "    <tr>\n",
       "      <th>0</th>\n",
       "      <td>2020-10-02</td>\n",
       "      <td>55.3</td>\n",
       "      <td>1.99</td>\n",
       "      <td>61.45</td>\n",
       "    </tr>\n",
       "    <tr>\n",
       "      <th>1</th>\n",
       "      <td>2020-11-25</td>\n",
       "      <td>103.5</td>\n",
       "      <td>3.09</td>\n",
       "      <td>46.92</td>\n",
       "    </tr>\n",
       "    <tr>\n",
       "      <th>2</th>\n",
       "      <td>2020-12-26</td>\n",
       "      <td>100.0</td>\n",
       "      <td>1.99</td>\n",
       "      <td>32.06</td>\n",
       "    </tr>\n",
       "    <tr>\n",
       "      <th>3</th>\n",
       "      <td>2021-01-20</td>\n",
       "      <td>109.4</td>\n",
       "      <td>1.99</td>\n",
       "      <td>26.79</td>\n",
       "    </tr>\n",
       "    <tr>\n",
       "      <th>4</th>\n",
       "      <td>2021-02-17</td>\n",
       "      <td>100.0</td>\n",
       "      <td>1.99</td>\n",
       "      <td>18.09</td>\n",
       "    </tr>\n",
       "  </tbody>\n",
       "</table>\n",
       "</div>"
      ],
      "text/plain": [
       "        date    gal  cost per gal  avg_temp\n",
       "0 2020-10-02   55.3          1.99     61.45\n",
       "1 2020-11-25  103.5          3.09     46.92\n",
       "2 2020-12-26  100.0          1.99     32.06\n",
       "3 2021-01-20  109.4          1.99     26.79\n",
       "4 2021-02-17  100.0          1.99     18.09"
      ]
     },
     "execution_count": 460,
     "metadata": {},
     "output_type": "execute_result"
    }
   ],
   "source": [
    "df"
   ]
  },
  {
   "cell_type": "code",
   "execution_count": 462,
   "metadata": {},
   "outputs": [],
   "source": [
    "df.to_csv('../data/clean_df.csv', index=False) "
   ]
  },
  {
   "cell_type": "code",
   "execution_count": 471,
   "metadata": {},
   "outputs": [
    {
     "data": {
      "text/plain": [
       "Timestamp('2021-01-20 00:00:00')"
      ]
     },
     "execution_count": 471,
     "metadata": {},
     "output_type": "execute_result"
    }
   ],
   "source": [
    "date_start"
   ]
  },
  {
   "cell_type": "code",
   "execution_count": 472,
   "metadata": {},
   "outputs": [
    {
     "data": {
      "text/plain": [
       "Timestamp('2021-02-17 00:00:00')"
      ]
     },
     "execution_count": 472,
     "metadata": {},
     "output_type": "execute_result"
    }
   ],
   "source": [
    "date_end - "
   ]
  },
  {
   "cell_type": "code",
   "execution_count": 473,
   "metadata": {},
   "outputs": [
    {
     "data": {
      "text/plain": [
       "Timedelta('28 days 00:00:00')"
      ]
     },
     "execution_count": 473,
     "metadata": {},
     "output_type": "execute_result"
    }
   ],
   "source": [
    "date_end - date_start"
   ]
  },
  {
   "cell_type": "code",
   "execution_count": 507,
   "metadata": {},
   "outputs": [
    {
     "ename": "AttributeError",
     "evalue": "'Timedelta' object has no attribute 'dt'",
     "output_type": "error",
     "traceback": [
      "\u001b[0;31m---------------------------------------------------------------------------\u001b[0m",
      "\u001b[0;31mAttributeError\u001b[0m                            Traceback (most recent call last)",
      "\u001b[0;32m<ipython-input-507-5772e62ff1c7>\u001b[0m in \u001b[0;36m<module>\u001b[0;34m\u001b[0m\n\u001b[1;32m      1\u001b[0m \u001b[0mm\u001b[0m \u001b[0;34m=\u001b[0m \u001b[0;34m(\u001b[0m\u001b[0mdate_end\u001b[0m \u001b[0;34m-\u001b[0m \u001b[0mdate_start\u001b[0m\u001b[0;34m)\u001b[0m\u001b[0;34m\u001b[0m\u001b[0;34m\u001b[0m\u001b[0m\n\u001b[0;32m----> 2\u001b[0;31m \u001b[0mm\u001b[0m\u001b[0;34m.\u001b[0m\u001b[0mdt\u001b[0m\u001b[0;34m.\u001b[0m\u001b[0mhours\u001b[0m\u001b[0;34m\u001b[0m\u001b[0;34m\u001b[0m\u001b[0m\n\u001b[0m",
      "\u001b[0;31mAttributeError\u001b[0m: 'Timedelta' object has no attribute 'dt'"
     ]
    }
   ],
   "source": [
    "m = (date_end - date_start)\n",
    "m.dt.hours\n"
   ]
  },
  {
   "cell_type": "code",
   "execution_count": 513,
   "metadata": {},
   "outputs": [
    {
     "data": {
      "text/plain": [
       "28"
      ]
     },
     "execution_count": 513,
     "metadata": {},
     "output_type": "execute_result"
    }
   ],
   "source": [
    "int(str(m).split(' ')[0])"
   ]
  },
  {
   "cell_type": "code",
   "execution_count": 470,
   "metadata": {},
   "outputs": [
    {
     "data": {
      "text/html": [
       "<div>\n",
       "<style scoped>\n",
       "    .dataframe tbody tr th:only-of-type {\n",
       "        vertical-align: middle;\n",
       "    }\n",
       "\n",
       "    .dataframe tbody tr th {\n",
       "        vertical-align: top;\n",
       "    }\n",
       "\n",
       "    .dataframe thead th {\n",
       "        text-align: right;\n",
       "    }\n",
       "</style>\n",
       "<table border=\"1\" class=\"dataframe\">\n",
       "  <thead>\n",
       "    <tr style=\"text-align: right;\">\n",
       "      <th></th>\n",
       "      <th>ts</th>\n",
       "      <th>t2m</th>\n",
       "    </tr>\n",
       "    <tr>\n",
       "      <th>date</th>\n",
       "      <th></th>\n",
       "      <th></th>\n",
       "    </tr>\n",
       "  </thead>\n",
       "  <tbody>\n",
       "    <tr>\n",
       "      <th>2020-08-01</th>\n",
       "      <td>76.244</td>\n",
       "      <td>76.388</td>\n",
       "    </tr>\n",
       "    <tr>\n",
       "      <th>2020-08-02</th>\n",
       "      <td>75.794</td>\n",
       "      <td>75.740</td>\n",
       "    </tr>\n",
       "    <tr>\n",
       "      <th>2020-08-03</th>\n",
       "      <td>75.902</td>\n",
       "      <td>76.208</td>\n",
       "    </tr>\n",
       "    <tr>\n",
       "      <th>2020-08-04</th>\n",
       "      <td>70.034</td>\n",
       "      <td>70.052</td>\n",
       "    </tr>\n",
       "    <tr>\n",
       "      <th>2020-08-05</th>\n",
       "      <td>69.638</td>\n",
       "      <td>69.818</td>\n",
       "    </tr>\n",
       "    <tr>\n",
       "      <th>...</th>\n",
       "      <td>...</td>\n",
       "      <td>...</td>\n",
       "    </tr>\n",
       "    <tr>\n",
       "      <th>2021-02-19</th>\n",
       "      <td>21.218</td>\n",
       "      <td>21.452</td>\n",
       "    </tr>\n",
       "    <tr>\n",
       "      <th>2021-02-20</th>\n",
       "      <td>19.166</td>\n",
       "      <td>19.310</td>\n",
       "    </tr>\n",
       "    <tr>\n",
       "      <th>2021-02-21</th>\n",
       "      <td>12.992</td>\n",
       "      <td>17.258</td>\n",
       "    </tr>\n",
       "    <tr>\n",
       "      <th>2021-02-22</th>\n",
       "      <td>23.846</td>\n",
       "      <td>23.972</td>\n",
       "    </tr>\n",
       "    <tr>\n",
       "      <th>2021-02-23</th>\n",
       "      <td>29.102</td>\n",
       "      <td>29.318</td>\n",
       "    </tr>\n",
       "  </tbody>\n",
       "</table>\n",
       "<p>207 rows × 2 columns</p>\n",
       "</div>"
      ],
      "text/plain": [
       "                ts     t2m\n",
       "date                      \n",
       "2020-08-01  76.244  76.388\n",
       "2020-08-02  75.794  75.740\n",
       "2020-08-03  75.902  76.208\n",
       "2020-08-04  70.034  70.052\n",
       "2020-08-05  69.638  69.818\n",
       "...            ...     ...\n",
       "2021-02-19  21.218  21.452\n",
       "2021-02-20  19.166  19.310\n",
       "2021-02-21  12.992  17.258\n",
       "2021-02-22  23.846  23.972\n",
       "2021-02-23  29.102  29.318\n",
       "\n",
       "[207 rows x 2 columns]"
      ]
     },
     "execution_count": 470,
     "metadata": {},
     "output_type": "execute_result"
    }
   ],
   "source": [
    "temp_df"
   ]
  },
  {
   "cell_type": "code",
   "execution_count": null,
   "metadata": {},
   "outputs": [],
   "source": []
  }
 ],
 "metadata": {
  "kernelspec": {
   "display_name": "Python 3",
   "language": "python",
   "name": "python3"
  },
  "language_info": {
   "codemirror_mode": {
    "name": "ipython",
    "version": 3
   },
   "file_extension": ".py",
   "mimetype": "text/x-python",
   "name": "python",
   "nbconvert_exporter": "python",
   "pygments_lexer": "ipython3",
   "version": "3.8.2"
  }
 },
 "nbformat": 4,
 "nbformat_minor": 4
}
