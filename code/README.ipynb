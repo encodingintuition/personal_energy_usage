{
 "cells": [
  {
   "cell_type": "markdown",
   "metadata": {},
   "source": [
    "# README\n",
    "     work-in-progress,\n",
    "<hr/>\n",
    "   \n",
    "<hr/>"
   ]
  },
  {
   "cell_type": "markdown",
   "metadata": {},
   "source": [
    "### Temp data from \n",
    "\n",
    "https://power.larc.nasa.gov/data-access-viewer/"
   ]
  },
  {
   "cell_type": "markdown",
   "metadata": {},
   "source": []
  },
  {
   "cell_type": "markdown",
   "metadata": {},
   "source": [
    "### Data Dictonary for Temp data\n",
    "\n",
    "T2M_RANGE MERRA2 1/2x1/2 Temperature Range at 2 Meters (C) \t\t\t\t\t\t\t\n",
    "T2M_MAX MERRA2 1/2x1/2 Maximum Temperature at 2 Meters (C) \t\t\t\t\t\t\t\n",
    "T2M_MIN MERRA2 1/2x1/2 Minimum Temperature at 2 Meters (C) \t\t\t\t\t\t\t\n",
    "T2M MERRA2 1/2x1/2 Temperature at 2 Meters (C) \t\t\t\t\t\t\t\n",
    "TS MERRA2 1/2x1/2 Earth Skin Temperature (C) \t\t\t\t\t\t\t\n",
    "T2MDEW MERRA2 1/2x1/2 Dew/Frost Point at 2 Meters (C) \t\t\t\t\t\t\t\n",
    "T2MWET MERRA2 1/2x1/2 Wet Bulb Temperature at 2 Meters (C) \t\t\t\t\t\t\t\n"
   ]
  },
  {
   "cell_type": "code",
   "execution_count": null,
   "metadata": {},
   "outputs": [],
   "source": []
  }
 ],
 "metadata": {
  "kernelspec": {
   "display_name": "Python 3",
   "language": "python",
   "name": "python3"
  },
  "language_info": {
   "codemirror_mode": {
    "name": "ipython",
    "version": 3
   },
   "file_extension": ".py",
   "mimetype": "text/x-python",
   "name": "python",
   "nbconvert_exporter": "python",
   "pygments_lexer": "ipython3",
   "version": "3.8.2"
  }
 },
 "nbformat": 4,
 "nbformat_minor": 4
}
