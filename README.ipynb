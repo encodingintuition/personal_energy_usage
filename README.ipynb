{
 "cells": [
  {
   "cell_type": "markdown",
   "metadata": {},
   "source": [
    "# Personal Energy Usage \n",
    "<hr/>\n",
    "<hr/>"
   ]
  },
  {
   "cell_type": "markdown",
   "metadata": {},
   "source": [
    "\n",
    "## Objective\n",
    "\n",
    "To become concious of my energy usage, and ask questions regarding it.\n",
    "\n",
    "- Forcast the amount of Propaine used given temperature\n",
    "- track my usage of gasoline\n",
    "<br>\n",
    "<br>\n"
   ]
  },
  {
   "cell_type": "markdown",
   "metadata": {},
   "source": [
    "# Contents\n",
    "\n",
    "- [Propaine](#Propaine)\n",
    "    - Date\n",
    "    - gal per delivery \n",
    "    - thermostat 2nd fl\n",
    "    - thermostat 1st fl\n",
    "    \n",
    "- [Electric](#electricity)   \n",
    "    - use per month KW\n",
    "    - use per item W    \n",
    "    \n",
    "\n",
    "- [gasoline](#gasoline)\n",
    "    - gal - used\n",
    "    - miles driven \n",
    "    - misc large events \n",
    "    - distence / gal & duration \n",
    "    \n",
    "\n",
    "- [weather data](#weather-data)\n"
   ]
  },
  {
   "cell_type": "markdown",
   "metadata": {},
   "source": [
    " "
   ]
  },
  {
   "cell_type": "markdown",
   "metadata": {},
   "source": [
    "# Electric"
   ]
  },
  {
   "cell_type": "code",
   "execution_count": null,
   "metadata": {},
   "outputs": [],
   "source": [
    "- "
   ]
  },
  {
   "cell_type": "markdown",
   "metadata": {},
   "source": [
    "## Propaine \n",
    "\n",
    "Data comes from my invoices from Kimlin Energy Services  \n",
    "Thermostat setting\n",
    "- normally 64, \n",
    "- post marcell 66 \n",
    "- upstairs 64"
   ]
  },
  {
   "cell_type": "markdown",
   "metadata": {},
   "source": [
    "<hr/>"
   ]
  },
  {
   "cell_type": "markdown",
   "metadata": {},
   "source": [
    "# Weather data\n",
    "<hr/>"
   ]
  },
  {
   "cell_type": "markdown",
   "metadata": {},
   "source": [
    "Temperture data \n",
    "\n",
    "https://power.larc.nasa.gov/data-access-viewer/\n"
   ]
  },
  {
   "cell_type": "markdown",
   "metadata": {},
   "source": [
    "### Temp Data Specs\n",
    "\n",
    "NASA/POWER SRB/FLASHFlux/MERRA2/GEOS 5.12.4 (FP-IT) 0.5 x 0.5 Degree Daily Averaged Data \t\t\t\t\t\t\t\t\t\t\n",
    "Dates (month/day/year): 08/01/2020 through 02/25/2021 \t\t\t\t\t\t\t\t\t\t\n",
    "Location: Latitude  41.7745   Longitude -74.2773 \t\t\t\t\t\t\t\t\t\t\n",
    "Elevation from MERRA-2: Average for 1/2x1/2 degree lat/lon region = 339.04 meters   Site = na \t\t\t\t\t\t\t\t\t\t\n",
    "Climate zone: na (reference Briggs et al: http://www.energycodes.gov) \t\t\t\t\t\t\t\t\t\t\n",
    "Value for missing model data cannot be computed or out of model availability range: -999 \t\t\t\t\t\t\t\t\t\t\n",
    "Parameter(s): \t\t\t\t\t\t\t\t\t\t\n"
   ]
  },
  {
   "cell_type": "markdown",
   "metadata": {},
   "source": [
    "### Data Dictonary for Temp data\n",
    "\n",
    "T2M_RANGE MERRA2 1/2x1/2 Temperature Range at 2 Meters (C) \t\t\t\t\t\t\t\n",
    "T2M_MAX MERRA2 1/2x1/2 Maximum Temperature at 2 Meters (C) \t\t\t\t\t\t\t\n",
    "T2M_MIN MERRA2 1/2x1/2 Minimum Temperature at 2 Meters (C) \t\t\t\t\t\t\t\n",
    "T2M MERRA2 1/2x1/2 Temperature at 2 Meters (C) \t\t\t\t\t\t\t\n",
    "TS MERRA2 1/2x1/2 Earth Skin Temperature (C) \t\t\t\t\t\t\t\n",
    "T2MDEW MERRA2 1/2x1/2 Dew/Frost Point at 2 Meters (C) \t\t\t\t\t\t\t\n",
    "T2MWET MERRA2 1/2x1/2 Wet Bulb Temperature at 2 Meters (C) \t\t\t\t\t\t\t\n"
   ]
  },
  {
   "cell_type": "markdown",
   "metadata": {},
   "source": [
    "\n",
    "\n",
    "National Center Fro Environmental Information \n",
    "https://www.ncdc.noaa.gov/cdo-web/search"
   ]
  },
  {
   "cell_type": "markdown",
   "metadata": {},
   "source": [
    "##  Data dictionary - Temperture data\n",
    "\n",
    "Air Temperature\n",
    "\n",
    "| var | b |\n",
    "|:--- | ---:|\n",
    "| TMAX\t| Maximum temperature |\n",
    "| TMIN\t| Minimum temperature |\n",
    "| TOBS\t| Temperature at the time of observation |\n",
    "\n",
    "Percipitation\n",
    "\n",
    "DAPR\tNumber of days included in the multiday precipitation total (MDPR)  \n",
    "DASF\tNumber of days included in the multiday snow fall total (MDSF)  \n",
    "MDPR\tMultiday precipitation total (use with DAPR and DWPR, if available)  \n",
    "MDSF\tMultiday snowfall total  \n",
    "PRCP\tPrecipitation  \n",
    "SNOW\tSnowfall  \n",
    "SNWD\tSnow depth  \n",
    "\n",
    "Water\n",
    "\n",
    "WESD\tWater equivalent of snow on the ground  \n",
    "WESF\tWater equivalent of snowfall\n",
    "\n",
    "Weather Type\n",
    "\n",
    "WT01\tFog, ice fog, or freezing fog (may include heavy fog)  \n",
    "WT03\tThunder  \n",
    "WT04\tIce pellets, sleet, snow pellets, or small hail\"  \n",
    "WT05\tHail (may include small hail)  \n",
    "WT06\tGlaze or rime  \n",
    "WT08\tSmoke or haze   \n",
    "WT09\tBlowing or drifting snow  \n",
    "WT10\tTornado, waterspout, or funnel cloud\"  \n",
    "WT11\tHigh or damaging winds  \n",
    "WT14\tDrizzle  \n",
    "WT16\tRain (may include freezing rain, drizzle, and freezing drizzle)\"  \n",
    "WT18\tSnow, snow pellets, snow grains, or ice crystals  \n"
   ]
  },
  {
   "cell_type": "code",
   "execution_count": null,
   "metadata": {},
   "outputs": [],
   "source": []
  }
 ],
 "metadata": {
  "kernelspec": {
   "display_name": "Python 3",
   "language": "python",
   "name": "python3"
  },
  "language_info": {
   "codemirror_mode": {
    "name": "ipython",
    "version": 3
   },
   "file_extension": ".py",
   "mimetype": "text/x-python",
   "name": "python",
   "nbconvert_exporter": "python",
   "pygments_lexer": "ipython3",
   "version": "3.8.2"
  }
 },
 "nbformat": 4,
 "nbformat_minor": 4
}
